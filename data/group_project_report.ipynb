{
 "cells": [
  {
   "cell_type": "code",
   "execution_count": null,
   "id": "387fe3ce-9142-422d-b20b-83f76d37b6d2",
   "metadata": {},
   "outputs": [],
   "source": [
    "### Please run this cell before continuing.\n",
    "\n",
    "library(tidyverse)\n",
    "library(repr)\n",
    "library(tidymodels)\n",
    "library(GGally)\n",
    "options(repr.matrix.max.rows = 6)\n",
    "set.seed(2022) "
   ]
  },
  {
   "cell_type": "code",
   "execution_count": null,
   "id": "cc25e557-ab53-4e75-80c3-a39edc2254dc",
   "metadata": {},
   "outputs": [],
   "source": [
    "# reading and cleaning dataset\n",
    "\n",
    "heart_disease_data <- read_csv(\"https://raw.githubusercontent.com/labellali/dsci-100-2022w1-group-169/main/data/heart_disease_dataset.csv\")\n",
    "heart_disease_data <- heart_disease_data |>\n",
    "    rename(age = Column1,\n",
    "            sex = Column2,\n",
    "                            chest_pain = Column3,\n",
    "                            resting_blood_pressure = Column4,\n",
    "                            cholesterol = Column5,\n",
    "                            fasting_blood_sugar = Column6,\n",
    "                            rest_ecg = Column7,\n",
    "                            max_heart_rate = Column8,\n",
    "                            exercised_ind_angina = Column9,\n",
    "                            oldpeak = Column10,\n",
    "                            slope = Column11,\n",
    "                            ca = Column12,\n",
    "                            thal = Column13,\n",
    "                            num = Column14) |>\n",
    "    mutate(sex = as.factor(sex),\n",
    "          chest_pain = as.factor(chest_pain),\n",
    "          fasting_blood_sugar = as.factor(fasting_blood_sugar),\n",
    "          rest_ecg = as.factor(rest_ecg),\n",
    "          exercised_ind_angina = as.factor(exercised_ind_angina),\n",
    "          num = as.factor(num),\n",
    "          thal = na_if(thal, '?'),\n",
    "          thal = as.factor(thal),\n",
    "          ca = na_if(ca, '?'),\n",
    "          ca = as.numeric(ca)) |>\n",
    "    select(resting_blood_pressure,\n",
    "           cholesterol,\n",
    "           max_heart_rate,\n",
    "           num) |>\n",
    "    filter(resting_blood_pressure != is.na(resting_blood_pressure),\n",
    "           cholesterol != is.na(cholesterol),\n",
    "           max_heart_rate != is.na(max_heart_rate),\n",
    "           num != is.na(num))\n",
    "heart_disease_data"
   ]
  },
  {
   "cell_type": "code",
   "execution_count": null,
   "id": "8e7dbac7-b86f-4c7b-9f5c-8f57e0015ecb",
   "metadata": {},
   "outputs": [],
   "source": [
    "# splitting data into initial and training datasets\n",
    "\n",
    "heart_disease_split <- initial_split(heart_disease_data, prop = 0.75, strata = num)\n",
    "training_data <- training(heart_disease_split)\n",
    "testing_data <- testing(heart_disease_split)"
   ]
  },
  {
   "cell_type": "code",
   "execution_count": null,
   "id": "93731a29-f29d-482c-868b-1cd55951d92a",
   "metadata": {},
   "outputs": [],
   "source": [
    "# looking at the number of observations in each class to predict\n",
    "\n",
    "training_data_count <- training_data |>\n",
    "    group_by(num) |>\n",
    "    summarize(n = n())\n",
    "\n",
    "training_data_count"
   ]
  },
  {
   "cell_type": "code",
   "execution_count": null,
   "id": "6654ced5-a1e5-4ef7-a740-4671d04507fe",
   "metadata": {},
   "outputs": [],
   "source": [
    "# finding range of each numeric variable\n",
    "\n",
    "training_data_max <- training_data |>\n",
    "    select(-num) |>\n",
    "    map_df(max, na.rm = TRUE)\n",
    "\n",
    "training_data_min <- training_data |>\n",
    "    select(-num) |>\n",
    "    map_df(min, na.rm = TRUE)\n",
    "\n",
    "training_data_ranges <- tibble(training_data_max - training_data_min)\n",
    "\n",
    "training_data_ranges"
   ]
  },
  {
   "cell_type": "code",
   "execution_count": null,
   "id": "f8438d8a-825d-4e43-a5fd-8b92028e3e94",
   "metadata": {},
   "outputs": [],
   "source": [
    "# histograms of every numeric variable\n",
    "\n",
    "heart_training_hist_resting_blood_pressure<- training_data %>%\n",
    "    ggplot(aes(x=resting_blood_pressure))+\n",
    "    geom_histogram(bins = 30)+\n",
    "    labs(x = \"Resting Blood Pressure\", y = \"Count\") +\n",
    "    ggtitle(\"Distribution of resting blood pressure values in heart disease dataset\")\n",
    "heart_training_hist_resting_blood_pressure\n",
    "\n",
    "heart_training_hist_cholesterol<- training_data %>%\n",
    "    ggplot(aes(x=cholesterol))+\n",
    "    geom_histogram(bins = 30)+\n",
    "    labs(x = \"Cholesterol\", y = \"Count\") +\n",
    "    ggtitle(\"Distribution of cholesterol level values in heart disease dataset\")\n",
    "heart_training_hist_cholesterol\n",
    "\n",
    "heart_training_max_heart_rate<- training_data %>%\n",
    "    ggplot(aes(x=max_heart_rate))+\n",
    "    geom_histogram(bins = 30)+\n",
    "    labs(x = \"Max Heart Rate\", y = \"Count\") +\n",
    "    ggtitle(\"Distribution of max heart rate values in heart disease dataset\")\n",
    "heart_training_max_heart_rate"
   ]
  },
  {
   "cell_type": "code",
   "execution_count": null,
   "id": "91570acf-3fb6-4115-a87b-4ccc73c6b747",
   "metadata": {},
   "outputs": [],
   "source": [
    "# comparing variable correlations\n",
    "\n",
    "correlations <- ggpairs(heart_disease_data)\n",
    "correlations"
   ]
  },
  {
   "cell_type": "code",
   "execution_count": null,
   "id": "3313478e-c829-4e96-a7b5-639a9f68091d",
   "metadata": {},
   "outputs": [],
   "source": [
    "# balancing and scaling the data in the classification recipe\n",
    "\n",
    "heart_disease_recipe <- recipe(num ~ ., data = training_data) |>\n",
    "    step_center(all_predictors()) |>\n",
    "    step_scale(all_predictors())"
   ]
  },
  {
   "cell_type": "code",
   "execution_count": null,
   "id": "b38d60f2-3707-4972-8faa-2c5b3e998706",
   "metadata": {},
   "outputs": [],
   "source": [
    "# creating the tuning classification model \n",
    "\n",
    "knn_tune <- nearest_neighbor(weight_func = \"rectangular\", neighbors = tune()) |>\n",
    "    set_engine(\"kknn\") |>\n",
    "    set_mode(\"classification\")"
   ]
  },
  {
   "cell_type": "code",
   "execution_count": null,
   "id": "779efbb6-19b5-4840-96a3-d77136f550a5",
   "metadata": {},
   "outputs": [],
   "source": [
    "# cross-validation on training data to determine best k-value\n",
    "\n",
    "k_values <- tibble(neighbors = c(1:50))\n",
    "\n",
    "heart_disease_vfold <- vfold_cv(training_data, v = 5, strata = num)\n",
    "\n",
    "knn_tune_fit <- workflow() |>\n",
    "    add_recipe(heart_disease_recipe) |>\n",
    "    add_model(knn_tune) |>\n",
    "    tune_grid(resamples = heart_disease_vfold, grid = k_values) |>\n",
    "    collect_metrics()\n",
    "\n",
    "knn_tune_fit"
   ]
  },
  {
   "cell_type": "code",
   "execution_count": null,
   "id": "30486c0b-e632-46d9-aee2-d92fcb1814b4",
   "metadata": {},
   "outputs": [],
   "source": [
    "# plotting accuracy values to determine the best k-value\n",
    "\n",
    "knn_tune_accuracies <- knn_tune_fit |>\n",
    "    filter(.metric == \"accuracy\") |>\n",
    "    select(neighbors, mean)\n",
    "\n",
    "accuracies <- ggplot(knn_tune_accuracies, aes(x = neighbors, y = mean)) +\n",
    "    geom_point() +\n",
    "    geom_line() +\n",
    "    labs(x = \"k-value\", y = \"Accuracy mean\") +\n",
    "    ggtitle(\"Accuracy mean vs. k-value\")\n",
    "\n",
    "accuracies"
   ]
  },
  {
   "cell_type": "code",
   "execution_count": null,
   "id": "5fefa445-59e6-4985-9f22-2fe493e2d269",
   "metadata": {},
   "outputs": [],
   "source": [
    "# choosing the best k-value\n",
    "\n",
    "knn_tune_preview <- knn_tune_accuracies |>\n",
    "    filter(neighbors %in% c(20:25))\n",
    "knn_tune_preview\n",
    "\n",
    "chosen_k <- 24"
   ]
  },
  {
   "cell_type": "code",
   "execution_count": null,
   "id": "3059952a-c0d3-48c6-b3d5-14c9f8584a1f",
   "metadata": {},
   "outputs": [],
   "source": [
    "# creating model with chosen k\n",
    "\n",
    "knn_spec <- nearest_neighbor(weight_func = \"rectangular\", neighbors = chosen_k) |>\n",
    "    set_engine(\"kknn\") |>\n",
    "    set_mode(\"classification\")\n",
    "\n",
    "knn_fit <- workflow() |>\n",
    "    add_recipe(heart_disease_recipe) |>\n",
    "    add_model(knn_spec) |>\n",
    "    fit(data = training_data)"
   ]
  },
  {
   "cell_type": "raw",
   "id": "cabb15ff-7ad3-408d-8267-398c77971cba",
   "metadata": {},
   "source": [
    "# predicting on test data \n",
    "# DO NOT RUN - model will be adjusted before predicting on test data\n",
    "\n",
    "prediction <- knn_fit |>\n",
    "    predict(testing_data) |>\n",
    "    bind_cols(testing_data)\n",
    "\n",
    "prediction_data <- prediction |>\n",
    "    metrics(truth = num, estimate = .pred_class) |>\n",
    "    filter(.metric == \"accuracy\")\n",
    "\n",
    "prediction_data"
   ]
  },
  {
   "cell_type": "raw",
   "id": "9811a23a-b643-41b5-a844-6d85afa69b84",
   "metadata": {},
   "source": [
    "# visualizing predictions (WORK IN PROGRESS)\n",
    "\n",
    "wkflw_plot <-\n",
    "  ggplot() +\n",
    "  geom_point(data = testing_data, \n",
    "             mapping = aes(x = resting_blood_pressure, \n",
    "                           y = cholesterol, \n",
    "                           color = num), \n",
    "             alpha = 0.75) +\n",
    "  geom_point(data = prediction_table, \n",
    "             mapping = aes(x = Area, \n",
    "                           y = Smoothness, \n",
    "                           color = Class), \n",
    "             alpha = 0.02, \n",
    "             size = 5) +\n",
    "  labs(color = \"Diagnosis\", \n",
    "       x = \"Area (standardized)\", \n",
    "       y = \"Smoothness (standardized)\") +\n",
    "  scale_color_manual(labels = c(\"Malignant\", \"Benign\"), \n",
    "                     values = c(\"orange2\", \"steelblue2\")) +\n",
    "  theme(text = element_text(size = 12))\n",
    "\n",
    "wkflw_plot"
   ]
  },
  {
   "cell_type": "code",
   "execution_count": null,
   "id": "8a8ee9da-ca85-4aba-90db-a9584c91c31f",
   "metadata": {},
   "outputs": [],
   "source": []
  }
 ],
 "metadata": {
  "kernelspec": {
   "display_name": "R",
   "language": "R",
   "name": "ir"
  },
  "language_info": {
   "codemirror_mode": "r",
   "file_extension": ".r",
   "mimetype": "text/x-r-source",
   "name": "R",
   "pygments_lexer": "r",
   "version": "4.1.3"
  }
 },
 "nbformat": 4,
 "nbformat_minor": 5
}
