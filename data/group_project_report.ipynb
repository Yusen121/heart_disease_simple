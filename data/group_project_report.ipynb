{
 "cells": [
  {
   "cell_type": "code",
   "execution_count": 2,
   "id": "387fe3ce-9142-422d-b20b-83f76d37b6d2",
   "metadata": {},
   "outputs": [
    {
     "name": "stderr",
     "output_type": "stream",
     "text": [
      "── \u001b[1mAttaching packages\u001b[22m ─────────────────────────────────────── tidyverse 1.3.1 ──\n",
      "\n",
      "\u001b[32m✔\u001b[39m \u001b[34mggplot2\u001b[39m 3.3.6     \u001b[32m✔\u001b[39m \u001b[34mpurrr  \u001b[39m 0.3.4\n",
      "\u001b[32m✔\u001b[39m \u001b[34mtibble \u001b[39m 3.1.7     \u001b[32m✔\u001b[39m \u001b[34mdplyr  \u001b[39m 1.0.9\n",
      "\u001b[32m✔\u001b[39m \u001b[34mtidyr  \u001b[39m 1.2.0     \u001b[32m✔\u001b[39m \u001b[34mstringr\u001b[39m 1.4.0\n",
      "\u001b[32m✔\u001b[39m \u001b[34mreadr  \u001b[39m 2.1.2     \u001b[32m✔\u001b[39m \u001b[34mforcats\u001b[39m 0.5.1\n",
      "\n",
      "── \u001b[1mConflicts\u001b[22m ────────────────────────────────────────── tidyverse_conflicts() ──\n",
      "\u001b[31m✖\u001b[39m \u001b[34mdplyr\u001b[39m::\u001b[32mfilter()\u001b[39m masks \u001b[34mstats\u001b[39m::filter()\n",
      "\u001b[31m✖\u001b[39m \u001b[34mdplyr\u001b[39m::\u001b[32mlag()\u001b[39m    masks \u001b[34mstats\u001b[39m::lag()\n",
      "\n",
      "── \u001b[1mAttaching packages\u001b[22m ────────────────────────────────────── tidymodels 1.0.0 ──\n",
      "\n",
      "\u001b[32m✔\u001b[39m \u001b[34mbroom       \u001b[39m 1.0.0     \u001b[32m✔\u001b[39m \u001b[34mrsample     \u001b[39m 1.0.0\n",
      "\u001b[32m✔\u001b[39m \u001b[34mdials       \u001b[39m 1.0.0     \u001b[32m✔\u001b[39m \u001b[34mtune        \u001b[39m 1.0.0\n",
      "\u001b[32m✔\u001b[39m \u001b[34minfer       \u001b[39m 1.0.2     \u001b[32m✔\u001b[39m \u001b[34mworkflows   \u001b[39m 1.0.0\n",
      "\u001b[32m✔\u001b[39m \u001b[34mmodeldata   \u001b[39m 1.0.0     \u001b[32m✔\u001b[39m \u001b[34mworkflowsets\u001b[39m 1.0.0\n",
      "\u001b[32m✔\u001b[39m \u001b[34mparsnip     \u001b[39m 1.0.0     \u001b[32m✔\u001b[39m \u001b[34myardstick   \u001b[39m 1.0.0\n",
      "\u001b[32m✔\u001b[39m \u001b[34mrecipes     \u001b[39m 1.0.1     \n",
      "\n",
      "── \u001b[1mConflicts\u001b[22m ───────────────────────────────────────── tidymodels_conflicts() ──\n",
      "\u001b[31m✖\u001b[39m \u001b[34mscales\u001b[39m::\u001b[32mdiscard()\u001b[39m masks \u001b[34mpurrr\u001b[39m::discard()\n",
      "\u001b[31m✖\u001b[39m \u001b[34mdplyr\u001b[39m::\u001b[32mfilter()\u001b[39m   masks \u001b[34mstats\u001b[39m::filter()\n",
      "\u001b[31m✖\u001b[39m \u001b[34mrecipes\u001b[39m::\u001b[32mfixed()\u001b[39m  masks \u001b[34mstringr\u001b[39m::fixed()\n",
      "\u001b[31m✖\u001b[39m \u001b[34mdplyr\u001b[39m::\u001b[32mlag()\u001b[39m      masks \u001b[34mstats\u001b[39m::lag()\n",
      "\u001b[31m✖\u001b[39m \u001b[34myardstick\u001b[39m::\u001b[32mspec()\u001b[39m masks \u001b[34mreadr\u001b[39m::spec()\n",
      "\u001b[31m✖\u001b[39m \u001b[34mrecipes\u001b[39m::\u001b[32mstep()\u001b[39m   masks \u001b[34mstats\u001b[39m::step()\n",
      "\u001b[34m•\u001b[39m Search for functions across packages at \u001b[32mhttps://www.tidymodels.org/find/\u001b[39m\n",
      "\n",
      "Registered S3 method overwritten by 'GGally':\n",
      "  method from   \n",
      "  +.gg   ggplot2\n",
      "\n"
     ]
    }
   ],
   "source": [
    "### Please run this cell before continuing.\n",
    "\n",
    "library(tidyverse)\n",
    "library(repr)\n",
    "library(tidymodels)\n",
    "library(GGally)\n",
    "options(repr.matrix.max.rows = 6)\n",
    "set.seed(2022) "
   ]
  },
  {
   "cell_type": "code",
   "execution_count": 3,
   "id": "cc25e557-ab53-4e75-80c3-a39edc2254dc",
   "metadata": {},
   "outputs": [
    {
     "name": "stderr",
     "output_type": "stream",
     "text": [
      "\u001b[1mRows: \u001b[22m\u001b[34m303\u001b[39m \u001b[1mColumns: \u001b[22m\u001b[34m14\u001b[39m\n",
      "\u001b[36m──\u001b[39m \u001b[1mColumn specification\u001b[22m \u001b[36m────────────────────────────────────────────────────────\u001b[39m\n",
      "\u001b[1mDelimiter:\u001b[22m \",\"\n",
      "\u001b[31mchr\u001b[39m  (2): Column12, Column13\n",
      "\u001b[32mdbl\u001b[39m (12): Column1, Column2, Column3, Column4, Column5, Column6, Column7, Col...\n",
      "\n",
      "\u001b[36mℹ\u001b[39m Use `spec()` to retrieve the full column specification for this data.\n",
      "\u001b[36mℹ\u001b[39m Specify the column types or set `show_col_types = FALSE` to quiet this message.\n"
     ]
    },
    {
     "data": {
      "text/html": [
       "<table class=\"dataframe\">\n",
       "<caption>A tibble: 303 × 4</caption>\n",
       "<thead>\n",
       "\t<tr><th scope=col>resting_blood_pressure</th><th scope=col>cholesterol</th><th scope=col>max_heart_rate</th><th scope=col>num</th></tr>\n",
       "\t<tr><th scope=col>&lt;dbl&gt;</th><th scope=col>&lt;dbl&gt;</th><th scope=col>&lt;dbl&gt;</th><th scope=col>&lt;fct&gt;</th></tr>\n",
       "</thead>\n",
       "<tbody>\n",
       "\t<tr><td>145</td><td>233</td><td>150</td><td>0</td></tr>\n",
       "\t<tr><td>160</td><td>286</td><td>108</td><td>1</td></tr>\n",
       "\t<tr><td>120</td><td>229</td><td>129</td><td>1</td></tr>\n",
       "\t<tr><td>⋮</td><td>⋮</td><td>⋮</td><td>⋮</td></tr>\n",
       "\t<tr><td>130</td><td>131</td><td>115</td><td>1</td></tr>\n",
       "\t<tr><td>130</td><td>236</td><td>174</td><td>1</td></tr>\n",
       "\t<tr><td>138</td><td>175</td><td>173</td><td>0</td></tr>\n",
       "</tbody>\n",
       "</table>\n"
      ],
      "text/latex": [
       "A tibble: 303 × 4\n",
       "\\begin{tabular}{llll}\n",
       " resting\\_blood\\_pressure & cholesterol & max\\_heart\\_rate & num\\\\\n",
       " <dbl> & <dbl> & <dbl> & <fct>\\\\\n",
       "\\hline\n",
       "\t 145 & 233 & 150 & 0\\\\\n",
       "\t 160 & 286 & 108 & 1\\\\\n",
       "\t 120 & 229 & 129 & 1\\\\\n",
       "\t ⋮ & ⋮ & ⋮ & ⋮\\\\\n",
       "\t 130 & 131 & 115 & 1\\\\\n",
       "\t 130 & 236 & 174 & 1\\\\\n",
       "\t 138 & 175 & 173 & 0\\\\\n",
       "\\end{tabular}\n"
      ],
      "text/markdown": [
       "\n",
       "A tibble: 303 × 4\n",
       "\n",
       "| resting_blood_pressure &lt;dbl&gt; | cholesterol &lt;dbl&gt; | max_heart_rate &lt;dbl&gt; | num &lt;fct&gt; |\n",
       "|---|---|---|---|\n",
       "| 145 | 233 | 150 | 0 |\n",
       "| 160 | 286 | 108 | 1 |\n",
       "| 120 | 229 | 129 | 1 |\n",
       "| ⋮ | ⋮ | ⋮ | ⋮ |\n",
       "| 130 | 131 | 115 | 1 |\n",
       "| 130 | 236 | 174 | 1 |\n",
       "| 138 | 175 | 173 | 0 |\n",
       "\n"
      ],
      "text/plain": [
       "    resting_blood_pressure cholesterol max_heart_rate num\n",
       "1   145                    233         150            0  \n",
       "2   160                    286         108            1  \n",
       "3   120                    229         129            1  \n",
       "⋮   ⋮                      ⋮           ⋮              ⋮  \n",
       "301 130                    131         115            1  \n",
       "302 130                    236         174            1  \n",
       "303 138                    175         173            0  "
      ]
     },
     "metadata": {},
     "output_type": "display_data"
    },
    {
     "data": {
      "text/html": [
       "<table class=\"dataframe\">\n",
       "<caption>A tibble: 2 × 2</caption>\n",
       "<thead>\n",
       "\t<tr><th scope=col>num</th><th scope=col>n</th></tr>\n",
       "\t<tr><th scope=col>&lt;fct&gt;</th><th scope=col>&lt;int&gt;</th></tr>\n",
       "</thead>\n",
       "<tbody>\n",
       "\t<tr><td>0</td><td>164</td></tr>\n",
       "\t<tr><td>1</td><td>139</td></tr>\n",
       "</tbody>\n",
       "</table>\n"
      ],
      "text/latex": [
       "A tibble: 2 × 2\n",
       "\\begin{tabular}{ll}\n",
       " num & n\\\\\n",
       " <fct> & <int>\\\\\n",
       "\\hline\n",
       "\t 0 & 164\\\\\n",
       "\t 1 & 139\\\\\n",
       "\\end{tabular}\n"
      ],
      "text/markdown": [
       "\n",
       "A tibble: 2 × 2\n",
       "\n",
       "| num &lt;fct&gt; | n &lt;int&gt; |\n",
       "|---|---|\n",
       "| 0 | 164 |\n",
       "| 1 | 139 |\n",
       "\n"
      ],
      "text/plain": [
       "  num n  \n",
       "1 0   164\n",
       "2 1   139"
      ]
     },
     "metadata": {},
     "output_type": "display_data"
    }
   ],
   "source": [
    "# reading and cleaning dataset\n",
    "\n",
    "heart_disease_data <- read_csv(\"https://raw.githubusercontent.com/labellali/dsci-100-2022w1-group-169/main/data/heart_disease_dataset.csv\")\n",
    "heart_disease_data <- heart_disease_data |>\n",
    "    rename(age = Column1,\n",
    "            sex = Column2,\n",
    "                            chest_pain = Column3,\n",
    "                            resting_blood_pressure = Column4,\n",
    "                            cholesterol = Column5,\n",
    "                            fasting_blood_sugar = Column6,\n",
    "                            rest_ecg = Column7,\n",
    "                            max_heart_rate = Column8,\n",
    "                            exercised_ind_angina = Column9,\n",
    "                            oldpeak = Column10,\n",
    "                            slope = Column11,\n",
    "                            ca = Column12,\n",
    "                            thal = Column13,\n",
    "                            num = Column14) |>\n",
    "    mutate(sex = as.factor(sex),\n",
    "          chest_pain = as.factor(chest_pain),\n",
    "          fasting_blood_sugar = as.factor(fasting_blood_sugar),\n",
    "          rest_ecg = as.factor(rest_ecg),\n",
    "          exercised_ind_angina = as.factor(exercised_ind_angina),\n",
    "          num = as.factor(num),\n",
    "          thal = na_if(thal, '?'),\n",
    "          thal = as.factor(thal),\n",
    "          ca = na_if(ca, '?'), \n",
    "          ca = as.numeric(ca),\n",
    "          num = replace(num, num == 2, 1),\n",
    "          num = replace(num, num == 3, 1),\n",
    "          num = replace(num, num == 4, 1)) |> \n",
    "    select(resting_blood_pressure,\n",
    "           cholesterol,\n",
    "           max_heart_rate,\n",
    "           num) |>\n",
    "    filter(resting_blood_pressure != is.na(resting_blood_pressure),\n",
    "           cholesterol != is.na(cholesterol),\n",
    "           max_heart_rate != is.na(max_heart_rate),\n",
    "           num != is.na(num))\n",
    "heart_disease_data\n",
    "\n",
    "count_tmp <- heart_disease_data |>\n",
    "    group_by(num) |>\n",
    "    summarize(n = n())\n",
    "count_tmp"
   ]
  },
  {
   "cell_type": "markdown",
   "id": "a1e6212f-3a96-46ba-9c1b-83b515a30776",
   "metadata": {},
   "source": [
    "Here we have read in our data with readable column names and categorized our classification variables into numbers to help us with our predictive model. We have chosen to only include resting_blood_pressure, cholesterol, max_heart_rate and num. Furthermore "
   ]
  },
  {
   "cell_type": "code",
   "execution_count": 4,
   "id": "8e7dbac7-b86f-4c7b-9f5c-8f57e0015ecb",
   "metadata": {},
   "outputs": [],
   "source": [
    "# splitting data into initial and training datasets\n",
    "\n",
    "heart_disease_split <- initial_split(heart_disease_data, prop = 0.75, strata = num)\n",
    "training_data <- training(heart_disease_split)\n",
    "testing_data <- testing(heart_disease_split)"
   ]
  },
  {
   "cell_type": "code",
   "execution_count": 5,
   "id": "93731a29-f29d-482c-868b-1cd55951d92a",
   "metadata": {},
   "outputs": [
    {
     "data": {
      "text/html": [
       "<table class=\"dataframe\">\n",
       "<caption>A tibble: 2 × 2</caption>\n",
       "<thead>\n",
       "\t<tr><th scope=col>num</th><th scope=col>n</th></tr>\n",
       "\t<tr><th scope=col>&lt;fct&gt;</th><th scope=col>&lt;int&gt;</th></tr>\n",
       "</thead>\n",
       "<tbody>\n",
       "\t<tr><td>0</td><td>123</td></tr>\n",
       "\t<tr><td>1</td><td>104</td></tr>\n",
       "</tbody>\n",
       "</table>\n"
      ],
      "text/latex": [
       "A tibble: 2 × 2\n",
       "\\begin{tabular}{ll}\n",
       " num & n\\\\\n",
       " <fct> & <int>\\\\\n",
       "\\hline\n",
       "\t 0 & 123\\\\\n",
       "\t 1 & 104\\\\\n",
       "\\end{tabular}\n"
      ],
      "text/markdown": [
       "\n",
       "A tibble: 2 × 2\n",
       "\n",
       "| num &lt;fct&gt; | n &lt;int&gt; |\n",
       "|---|---|\n",
       "| 0 | 123 |\n",
       "| 1 | 104 |\n",
       "\n"
      ],
      "text/plain": [
       "  num n  \n",
       "1 0   123\n",
       "2 1   104"
      ]
     },
     "metadata": {},
     "output_type": "display_data"
    }
   ],
   "source": [
    "# looking at the number of observations in each class to predict\n",
    "\n",
    "training_data_count <- training_data |>\n",
    "    group_by(num) |>\n",
    "    summarize(n = n())\n",
    "\n",
    "training_data_count"
   ]
  },
  {
   "cell_type": "code",
   "execution_count": 6,
   "id": "6654ced5-a1e5-4ef7-a740-4671d04507fe",
   "metadata": {},
   "outputs": [
    {
     "data": {
      "text/html": [
       "<table class=\"dataframe\">\n",
       "<caption>A tibble: 1 × 3</caption>\n",
       "<thead>\n",
       "\t<tr><th scope=col>resting_blood_pressure</th><th scope=col>cholesterol</th><th scope=col>max_heart_rate</th></tr>\n",
       "\t<tr><th scope=col>&lt;dbl&gt;</th><th scope=col>&lt;dbl&gt;</th><th scope=col>&lt;dbl&gt;</th></tr>\n",
       "</thead>\n",
       "<tbody>\n",
       "\t<tr><td>98</td><td>291</td><td>131</td></tr>\n",
       "</tbody>\n",
       "</table>\n"
      ],
      "text/latex": [
       "A tibble: 1 × 3\n",
       "\\begin{tabular}{lll}\n",
       " resting\\_blood\\_pressure & cholesterol & max\\_heart\\_rate\\\\\n",
       " <dbl> & <dbl> & <dbl>\\\\\n",
       "\\hline\n",
       "\t 98 & 291 & 131\\\\\n",
       "\\end{tabular}\n"
      ],
      "text/markdown": [
       "\n",
       "A tibble: 1 × 3\n",
       "\n",
       "| resting_blood_pressure &lt;dbl&gt; | cholesterol &lt;dbl&gt; | max_heart_rate &lt;dbl&gt; |\n",
       "|---|---|---|\n",
       "| 98 | 291 | 131 |\n",
       "\n"
      ],
      "text/plain": [
       "  resting_blood_pressure cholesterol max_heart_rate\n",
       "1 98                     291         131           "
      ]
     },
     "metadata": {},
     "output_type": "display_data"
    }
   ],
   "source": [
    "# finding range of each numeric variable\n",
    "\n",
    "training_data_max <- training_data |>\n",
    "    select(-num) |>\n",
    "    map_df(max, na.rm = TRUE)\n",
    "\n",
    "training_data_min <- training_data |>\n",
    "    select(-num) |>\n",
    "    map_df(min, na.rm = TRUE)\n",
    "\n",
    "training_data_ranges <- tibble(training_data_max - training_data_min)\n",
    "\n",
    "training_data_ranges"
   ]
  },
  {
   "cell_type": "code",
   "execution_count": 7,
   "id": "f8438d8a-825d-4e43-a5fd-8b92028e3e94",
   "metadata": {},
   "outputs": [
    {
     "data": {
      "image/png": "[encoded data removed]",
      "text/plain": [
       "plot without title"
      ]
     },
     "metadata": {
      "image/png": {
       "height": 420,
       "width": 420
      }
     },
     "output_type": "display_data"
    },
    {
     "data": {
      "image/png": "[encoded data removed]",
      "text/plain": [
       "plot without title"
      ]
     },
     "metadata": {
      "image/png": {
       "height": 420,
       "width": 420
      }
     },
     "output_type": "display_data"
    },
    {
     "data": {
      "image/png": "[encoded data removed]",
      "text/plain": [
       "plot without title"
      ]
     },
     "metadata": {
      "image/png": {
       "height": 420,
       "width": 420
      }
     },
     "output_type": "display_data"
    }
   ],
   "source": [
    "# histograms of every numeric variable\n",
    "\n",
    "heart_training_hist_resting_blood_pressure<- training_data %>%\n",
    "    ggplot(aes(x=resting_blood_pressure))+\n",
    "    geom_histogram(bins = 30)+\n",
    "    labs(x = \"Resting Blood Pressure\", y = \"Count\") +\n",
    "    ggtitle(\"Distribution of resting blood pressure values in heart disease dataset\")\n",
    "heart_training_hist_resting_blood_pressure\n",
    "\n",
    "heart_training_hist_cholesterol<- training_data %>%\n",
    "    ggplot(aes(x=cholesterol))+\n",
    "    geom_histogram(bins = 30)+\n",
    "    labs(x = \"Cholesterol\", y = \"Count\") +\n",
    "    ggtitle(\"Distribution of cholesterol level values in heart disease dataset\")\n",
    "heart_training_hist_cholesterol\n",
    "\n",
    "heart_training_max_heart_rate<- training_data %>%\n",
    "    ggplot(aes(x=max_heart_rate))+\n",
    "    geom_histogram(bins = 30)+\n",
    "    labs(x = \"Max Heart Rate\", y = \"Count\") +\n",
    "    ggtitle(\"Distribution of max heart rate values in heart disease dataset\")\n",
    "heart_training_max_heart_rate"
   ]
  },
  {
   "cell_type": "code",
   "execution_count": 8,
   "id": "91570acf-3fb6-4115-a87b-4ccc73c6b747",
   "metadata": {},
   "outputs": [
    {
     "name": "stderr",
     "output_type": "stream",
     "text": [
      "`stat_bin()` using `bins = 30`. Pick better value with `binwidth`.\n",
      "\n",
      "`stat_bin()` using `bins = 30`. Pick better value with `binwidth`.\n",
      "\n",
      "`stat_bin()` using `bins = 30`. Pick better value with `binwidth`.\n",
      "\n"
     ]
    },
    {
     "data": {
      "image/png": "[encoded data removed]",
      "text/plain": [
       "plot without title"
      ]
     },
     "metadata": {
      "image/png": {
       "height": 420,
       "width": 420
      }
     },
     "output_type": "display_data"
    }
   ],
   "source": [
    "# comparing variable correlations\n",
    "\n",
    "correlations <- ggpairs(heart_disease_data)\n",
    "correlations"
   ]
  },
  {
   "cell_type": "code",
   "execution_count": 9,
   "id": "3313478e-c829-4e96-a7b5-639a9f68091d",
   "metadata": {},
   "outputs": [],
   "source": [
    "# balancing and scaling the data in the classification recipe\n",
    "\n",
    "heart_disease_recipe <- recipe(num ~ ., data = training_data) |>\n",
    "    step_center(all_predictors()) |>\n",
    "    step_scale(all_predictors())"
   ]
  },
  {
   "cell_type": "code",
   "execution_count": 10,
   "id": "b38d60f2-3707-4972-8faa-2c5b3e998706",
   "metadata": {},
   "outputs": [],
   "source": [
    "# creating the tuning classification model \n",
    "\n",
    "knn_tune <- nearest_neighbor(weight_func = \"rectangular\", neighbors = tune()) |>\n",
    "    set_engine(\"kknn\") |>\n",
    "    set_mode(\"classification\")"
   ]
  },
  {
   "cell_type": "code",
   "execution_count": 11,
   "id": "779efbb6-19b5-4840-96a3-d77136f550a5",
   "metadata": {},
   "outputs": [
    {
     "name": "stderr",
     "output_type": "stream",
     "text": [
      "\u001b[33m!\u001b[39m \u001b[33mFold1: internal:\n",
      "  No observations were detected in `truth` for level(s): '2', '3', '4'\n",
      "  Computation will proceed by ignoring those levels.\u001b[39m\n",
      "\n",
      "\u001b[33m!\u001b[39m \u001b[33mFold2: internal:\n",
      "  No observations were detected in `truth` for level(s): '2', '3', '4'\n",
      "  Computation will proceed by ignoring those levels.\u001b[39m\n",
      "\n",
      "\u001b[33m!\u001b[39m \u001b[33mFold3: internal:\n",
      "  No observations were detected in `truth` for level(s): '2', '3', '4'\n",
      "  Computation will proceed by ignoring those levels.\u001b[39m\n",
      "\n",
      "\u001b[33m!\u001b[39m \u001b[33mFold4: internal:\n",
      "  No observations were detected in `truth` for level(s): '2', '3', '4'\n",
      "  Computation will proceed by ignoring those levels.\u001b[39m\n",
      "\n",
      "\u001b[33m!\u001b[39m \u001b[33mFold5: internal:\n",
      "  No observations were detected in `truth` for level(s): '2', '3', '4'\n",
      "  Computation will proceed by ignoring those levels.\u001b[39m\n",
      "\n"
     ]
    },
    {
     "data": {
      "text/html": [
       "<table class=\"dataframe\">\n",
       "<caption>A tibble: 100 × 7</caption>\n",
       "<thead>\n",
       "\t<tr><th scope=col>neighbors</th><th scope=col>.metric</th><th scope=col>.estimator</th><th scope=col>mean</th><th scope=col>n</th><th scope=col>std_err</th><th scope=col>.config</th></tr>\n",
       "\t<tr><th scope=col>&lt;int&gt;</th><th scope=col>&lt;chr&gt;</th><th scope=col>&lt;chr&gt;</th><th scope=col>&lt;dbl&gt;</th><th scope=col>&lt;int&gt;</th><th scope=col>&lt;dbl&gt;</th><th scope=col>&lt;chr&gt;</th></tr>\n",
       "</thead>\n",
       "<tbody>\n",
       "\t<tr><td>1</td><td>accuracy</td><td>multiclass</td><td>0.5626921</td><td>5</td><td>0.04002156</td><td>Preprocessor1_Model01</td></tr>\n",
       "\t<tr><td>1</td><td>roc_auc </td><td>hand_till </td><td>0.5605714</td><td>5</td><td>0.04098848</td><td>Preprocessor1_Model01</td></tr>\n",
       "\t<tr><td>2</td><td>accuracy</td><td>multiclass</td><td>0.5626921</td><td>5</td><td>0.04002156</td><td>Preprocessor1_Model02</td></tr>\n",
       "\t<tr><td>⋮</td><td>⋮</td><td>⋮</td><td>⋮</td><td>⋮</td><td>⋮</td><td>⋮</td></tr>\n",
       "\t<tr><td>49</td><td>roc_auc </td><td>hand_till </td><td>0.7442480</td><td>5</td><td>0.02918142</td><td>Preprocessor1_Model49</td></tr>\n",
       "\t<tr><td>50</td><td>accuracy</td><td>multiclass</td><td>0.6735529</td><td>5</td><td>0.02270653</td><td>Preprocessor1_Model50</td></tr>\n",
       "\t<tr><td>50</td><td>roc_auc </td><td>hand_till </td><td>0.7422579</td><td>5</td><td>0.02450199</td><td>Preprocessor1_Model50</td></tr>\n",
       "</tbody>\n",
       "</table>\n"
      ],
      "text/latex": [
       "A tibble: 100 × 7\n",
       "\\begin{tabular}{lllllll}\n",
       " neighbors & .metric & .estimator & mean & n & std\\_err & .config\\\\\n",
       " <int> & <chr> & <chr> & <dbl> & <int> & <dbl> & <chr>\\\\\n",
       "\\hline\n",
       "\t 1 & accuracy & multiclass & 0.5626921 & 5 & 0.04002156 & Preprocessor1\\_Model01\\\\\n",
       "\t 1 & roc\\_auc  & hand\\_till  & 0.5605714 & 5 & 0.04098848 & Preprocessor1\\_Model01\\\\\n",
       "\t 2 & accuracy & multiclass & 0.5626921 & 5 & 0.04002156 & Preprocessor1\\_Model02\\\\\n",
       "\t ⋮ & ⋮ & ⋮ & ⋮ & ⋮ & ⋮ & ⋮\\\\\n",
       "\t 49 & roc\\_auc  & hand\\_till  & 0.7442480 & 5 & 0.02918142 & Preprocessor1\\_Model49\\\\\n",
       "\t 50 & accuracy & multiclass & 0.6735529 & 5 & 0.02270653 & Preprocessor1\\_Model50\\\\\n",
       "\t 50 & roc\\_auc  & hand\\_till  & 0.7422579 & 5 & 0.02450199 & Preprocessor1\\_Model50\\\\\n",
       "\\end{tabular}\n"
      ],
      "text/markdown": [
       "\n",
       "A tibble: 100 × 7\n",
       "\n",
       "| neighbors &lt;int&gt; | .metric &lt;chr&gt; | .estimator &lt;chr&gt; | mean &lt;dbl&gt; | n &lt;int&gt; | std_err &lt;dbl&gt; | .config &lt;chr&gt; |\n",
       "|---|---|---|---|---|---|---|\n",
       "| 1 | accuracy | multiclass | 0.5626921 | 5 | 0.04002156 | Preprocessor1_Model01 |\n",
       "| 1 | roc_auc  | hand_till  | 0.5605714 | 5 | 0.04098848 | Preprocessor1_Model01 |\n",
       "| 2 | accuracy | multiclass | 0.5626921 | 5 | 0.04002156 | Preprocessor1_Model02 |\n",
       "| ⋮ | ⋮ | ⋮ | ⋮ | ⋮ | ⋮ | ⋮ |\n",
       "| 49 | roc_auc  | hand_till  | 0.7442480 | 5 | 0.02918142 | Preprocessor1_Model49 |\n",
       "| 50 | accuracy | multiclass | 0.6735529 | 5 | 0.02270653 | Preprocessor1_Model50 |\n",
       "| 50 | roc_auc  | hand_till  | 0.7422579 | 5 | 0.02450199 | Preprocessor1_Model50 |\n",
       "\n"
      ],
      "text/plain": [
       "    neighbors .metric  .estimator mean      n std_err    .config              \n",
       "1   1         accuracy multiclass 0.5626921 5 0.04002156 Preprocessor1_Model01\n",
       "2   1         roc_auc  hand_till  0.5605714 5 0.04098848 Preprocessor1_Model01\n",
       "3   2         accuracy multiclass 0.5626921 5 0.04002156 Preprocessor1_Model02\n",
       "⋮   ⋮         ⋮        ⋮          ⋮         ⋮ ⋮          ⋮                    \n",
       "98  49        roc_auc  hand_till  0.7442480 5 0.02918142 Preprocessor1_Model49\n",
       "99  50        accuracy multiclass 0.6735529 5 0.02270653 Preprocessor1_Model50\n",
       "100 50        roc_auc  hand_till  0.7422579 5 0.02450199 Preprocessor1_Model50"
      ]
     },
     "metadata": {},
     "output_type": "display_data"
    }
   ],
   "source": [
    "# cross-validation on training data to determine best k-value\n",
    "\n",
    "k_values <- tibble(neighbors = c(1:50))\n",
    "\n",
    "heart_disease_vfold <- vfold_cv(training_data, v = 5, strata = num)\n",
    "\n",
    "knn_tune_fit <- workflow() |>\n",
    "    add_recipe(heart_disease_recipe) |>\n",
    "    add_model(knn_tune) |>\n",
    "    tune_grid(resamples = heart_disease_vfold, grid = k_values) |>\n",
    "    collect_metrics()\n",
    "\n",
    "knn_tune_fit"
   ]
  },
  {
   "cell_type": "code",
   "execution_count": 12,
   "id": "30486c0b-e632-46d9-aee2-d92fcb1814b4",
   "metadata": {},
   "outputs": [
    {
     "data": {
      "image/png": "[encoded data removed]",
      "text/plain": [
       "plot without title"
      ]
     },
     "metadata": {
      "image/png": {
       "height": 420,
       "width": 420
      }
     },
     "output_type": "display_data"
    }
   ],
   "source": [
    "# plotting accuracy values to determine the best k-value\n",
    "\n",
    "knn_tune_accuracies <- knn_tune_fit |>\n",
    "    filter(.metric == \"accuracy\") |>\n",
    "    select(neighbors, mean)\n",
    "\n",
    "accuracies <- ggplot(knn_tune_accuracies, aes(x = neighbors, y = mean)) +\n",
    "    geom_point() +\n",
    "    geom_line() +\n",
    "    labs(x = \"k-value\", y = \"Accuracy mean\") +\n",
    "    ggtitle(\"Accuracy mean vs. k-value\")\n",
    "\n",
    "accuracies"
   ]
  },
  {
   "cell_type": "code",
   "execution_count": 13,
   "id": "5fefa445-59e6-4985-9f22-2fe493e2d269",
   "metadata": {},
   "outputs": [
    {
     "data": {
      "text/html": [
       "<table class=\"dataframe\">\n",
       "<caption>A tibble: 6 × 2</caption>\n",
       "<thead>\n",
       "\t<tr><th scope=col>neighbors</th><th scope=col>mean</th></tr>\n",
       "\t<tr><th scope=col>&lt;int&gt;</th><th scope=col>&lt;dbl&gt;</th></tr>\n",
       "</thead>\n",
       "<tbody>\n",
       "\t<tr><td>25</td><td>0.6950856</td></tr>\n",
       "\t<tr><td>26</td><td>0.6950856</td></tr>\n",
       "\t<tr><td>27</td><td>0.6994335</td></tr>\n",
       "\t<tr><td>28</td><td>0.6994335</td></tr>\n",
       "\t<tr><td>29</td><td>0.6602064</td></tr>\n",
       "\t<tr><td>30</td><td>0.6602064</td></tr>\n",
       "</tbody>\n",
       "</table>\n"
      ],
      "text/latex": [
       "A tibble: 6 × 2\n",
       "\\begin{tabular}{ll}\n",
       " neighbors & mean\\\\\n",
       " <int> & <dbl>\\\\\n",
       "\\hline\n",
       "\t 25 & 0.6950856\\\\\n",
       "\t 26 & 0.6950856\\\\\n",
       "\t 27 & 0.6994335\\\\\n",
       "\t 28 & 0.6994335\\\\\n",
       "\t 29 & 0.6602064\\\\\n",
       "\t 30 & 0.6602064\\\\\n",
       "\\end{tabular}\n"
      ],
      "text/markdown": [
       "\n",
       "A tibble: 6 × 2\n",
       "\n",
       "| neighbors &lt;int&gt; | mean &lt;dbl&gt; |\n",
       "|---|---|\n",
       "| 25 | 0.6950856 |\n",
       "| 26 | 0.6950856 |\n",
       "| 27 | 0.6994335 |\n",
       "| 28 | 0.6994335 |\n",
       "| 29 | 0.6602064 |\n",
       "| 30 | 0.6602064 |\n",
       "\n"
      ],
      "text/plain": [
       "  neighbors mean     \n",
       "1 25        0.6950856\n",
       "2 26        0.6950856\n",
       "3 27        0.6994335\n",
       "4 28        0.6994335\n",
       "5 29        0.6602064\n",
       "6 30        0.6602064"
      ]
     },
     "metadata": {},
     "output_type": "display_data"
    }
   ],
   "source": [
    "# choosing the best k-value\n",
    "\n",
    "knn_tune_preview <- knn_tune_accuracies |>\n",
    "    filter(neighbors %in% c(25:30))\n",
    "knn_tune_preview\n",
    "\n",
    "chosen_k <- 24"
   ]
  },
  {
   "cell_type": "code",
   "execution_count": 16,
   "id": "3059952a-c0d3-48c6-b3d5-14c9f8584a1f",
   "metadata": {},
   "outputs": [],
   "source": [
    "# creating model with chosen k\n",
    "\n",
    "knn_spec <- nearest_neighbor(weight_func = \"rectangular\", neighbors = chosen_k) |>\n",
    "    set_engine(\"kknn\") |>\n",
    "    set_mode(\"classification\")\n",
    "\n",
    "knn_fit <- workflow() |>\n",
    "    add_recipe(heart_disease_recipe) |>\n",
    "    add_model(knn_spec) |>\n",
    "    fit(data = training_data)"
   ]
  },
  {
   "cell_type": "raw",
   "id": "cabb15ff-7ad3-408d-8267-398c77971cba",
   "metadata": {},
   "source": [
    "# predicting on test data \n",
    "# DO NOT RUN - model will be adjusted before predicting on test data\n",
    "\n",
    "prediction <- knn_fit |>\n",
    "    predict(testing_data) |>\n",
    "    bind_cols(testing_data)\n",
    "\n",
    "prediction_data <- prediction |>\n",
    "    metrics(truth = num, estimate = .pred_class) |>\n",
    "    filter(.metric == \"accuracy\")\n",
    "\n",
    "prediction_data"
   ]
  },
  {
   "cell_type": "raw",
   "id": "9811a23a-b643-41b5-a844-6d85afa69b84",
   "metadata": {},
   "source": [
    "# visualizing predictions (WORK IN PROGRESS)\n",
    "\n",
    "wkflw_plot <-\n",
    "  ggplot() +\n",
    "  geom_point(data = testing_data, \n",
    "             mapping = aes(x = resting_blood_pressure, \n",
    "                           y = cholesterol, \n",
    "                           color = num), \n",
    "             alpha = 0.75) +\n",
    "  geom_point(data = prediction_table, \n",
    "             mapping = aes(x = Area, \n",
    "                           y = Smoothness, \n",
    "                           color = Class), \n",
    "             alpha = 0.02, \n",
    "             size = 5) +\n",
    "  labs(color = \"Diagnosis\", \n",
    "       x = \"Area (standardized)\", \n",
    "       y = \"Smoothness (standardized)\") +\n",
    "  scale_color_manual(labels = c(\"Malignant\", \"Benign\"), \n",
    "                     values = c(\"orange2\", \"steelblue2\")) +\n",
    "  theme(text = element_text(size = 12))\n",
    "\n",
    "wkflw_plot"
   ]
  },
  {
   "cell_type": "markdown",
   "id": "a2b8b8a5-8111-4964-b9e0-996ba0e80e21",
   "metadata": {},
   "source": [
    "#### Methods:\n",
    "* Explain how you will conduct either your data analysis and which variables/columns you will use. (Note - you do not need to use all variables/columns that exist in the raw data set. In fact, that's often not a good idea. For each variable think: is this a useful variable for prediction?)\n",
    "* Describe at least one way that you will visualize the results\n",
    "\n",
    "In our data set, there are 14 columns:\n",
    "\n",
    "* age (years)\n",
    "* sex (1 = male, 0 = female)\n",
    "* chest_pain (type) Value 1: typical angina Value 2: atypical angina Value 3: non-anginal pain Value 4: asymptomatic\n",
    "* resting_blood_pressure (in mm Hg on admission to the hospital)\n",
    "* cholesterol (serum cholestoral in mg/dl)\n",
    "* fasting_blood_sugar (> 120 mg/dl, 1 = true; 0 = false)\n",
    "* rest_ecg (resting electrocardiographic results)\n",
    "* max_heart_rate (maximum heart rate achieved)\n",
    "* exercised_ind_angina (exercise induced angina, 1 = yes; 0 = no)\n",
    "* oldpeak (ST depression induced by exercise relative to rest)\n",
    "* slope (the slope of the peak exercise ST segment) Value 1: upsloping Value 2: flat Value 3: downsloping\n",
    "* ca (number of major vessels (0-3) colored by flourosopy)\n",
    "* thal (3 = normal; 6 = fixed defect; 7 = reversable defect)\n",
    "* num (diagnosis of heart disease (angiographic disease status)) Value 0: < 50% diameter narrowing Value 1: > 50% diameter narrowing\n",
    "\n",
    "We will select the columns resting_blood_pressure, cholesterol, max_heart_rate, and num, this is a change from our proposal; because the correlation was better when did not include age, sex, chest_pain and fasting_blood_pressure.\n",
    "\n",
    "Our assumption was that a high resting blood pressure would lead to an increased probability of heart disease because a high blood pressure leads to various different health complications including heart disease (source). We selected cholestrol because high colestrol is directly related to issues in blood flow that could lead to a heart attack (source), which told us that this may also be linked to heart disease. As stated we previously found that including other variables messed with the accuracy of our model so we chose to only include these as those variables would not be helpful in prediction. \n",
    "\n",
    "To increase the accuracy of the data prediction, we optimize the data itself. In the previous version, the \"num\" column represented four different kinds of heart disease with values 1,2,3, and 4. It also had a value \"0\" for patients who don't have heart diease. We simplified this to make it so that we only have two values in this column, \"0\" and \"1\", to represent whether or not a patient has heart disease. This is more aligned with the question that we are asking to see if we can predict heart disease given the variables of their health characteristics we  are using. \n",
    "\n",
    "In the next step, we do the data classification. After using cross-validation to calculate accuracy for each value of 𝐾 in a reasonable range, we create a plot to choose the best k for our model with the most fantastic accuracy.\n",
    "\n",
    "Finally, we choose the best k, 24, and create the model for the selected k.\n"
   ]
  },
  {
   "cell_type": "markdown",
   "id": "d5e319b6-0a21-45e5-963e-3f37e597f85b",
   "metadata": {},
   "source": [
    "#### Discussion:\n",
    "##### Summarize what you found\n",
    "\n",
    "##### Discuss whether this is what you expected to find?\n",
    "\n",
    "There are three expectations we mentioned in our proposal.\n",
    "  * A link between particular variables and heart disease\n",
    "  \n",
    "People who have heart disease are likely to have a little bit higher resting_blood_pressure, slightly higher cholesterol, and lower cholesterol\n",
    "  * A list of variables that are linked to heart disease and the variable that has the most significant effect on the likelihood of heart disease\n",
    "  \n",
    "We found that resting_blood_pressure, cholesterol, and max_heart_rate is related to heart disease.\n",
    "Amount all the variables, max_heart_rate has the most significant effect on the likelihood of heart disease.\n",
    "  * An accurate predictive model that can help detect the possibility of heart disease\n",
    "  \n",
    "We already have the predictive classification model, which has a k value of 24.\n",
    "\n",
    "\n",
    "##### Discuss what impact could such findings have?\n",
    "\n",
    "##### Discuss what future questions could this lead to?\n",
    "\n",
    "\n"
   ]
  },
  {
   "cell_type": "markdown",
   "id": "6797abcb-9257-4459-94ab-59d773f42c6e",
   "metadata": {},
   "source": [
    "#### References:\n",
    "\n",
    "Here is an annotated list of five references that relate to heart disease. To find them, we searched google scholar for scholarly articles from the past five years the included the terms \"heart\", \"disease\", \"predict\", and \"data\"\n",
    "\n",
    "##### Zriqat, I. A., Altamimi, A. M., & Azzeh, M. (2017). A comparative study for predicting heart diseases using data mining classification methods. arXiv preprint arXiv:1704.02799.\n",
    "\n",
    "    Incorrect diagnosis of heart disease has led many researchers to investigate better predictive methods. This paper uses \"five data mining classifying algorithms, with large datasets\" (abstract para 1) to propose a more effective decision making model. Five classifiers were used: Naïve Bayes, Decision Tree, Discriminant, Random Forest, and Support Vector Machine. Decision tree was the most accurate with a 99.0% rate.\n",
    "\n",
    "\n",
    "##### Latha, C. B., & Jeeva, S. C. (2019). Improving the accuracy of prediction of heart disease risk based on ensemble classification techniques. Informatics in Medicine Unlocked, 16, 100203. https://doi.org/10.1016/j.imu.2019.100203\n",
    "\n",
    "\n",
    "    Machine learning can predict using known data via classification methods that recognize patterns. This paper proposes the use of ensemble classification, that is using multiple classifiers. Ensemble classification was applied to predicting heart disease, and this paper also shows in purpose in \"predict[ing] disease at an early stage\" (abstract para 1). Ensemble classification such as bagging and boosting improved the accuracy of poor classifiers, and it increased week prediction models by 7%.\n",
    "\n",
    "\n",
    "##### Mohan, S., Thirumalai, C., & Srivastava, G. (2019). Effective heart disease prediction using hybrid machine learning techniques. IEEE Access, 7, 81542–81554. https://doi.org/10.1109/access.2019.2923707\n",
    "\n",
    "\n",
    "    Machine Learning is effective at predicting heart disease, one of the leading causes of death in humans. ML has been used in the Internet of Things. The model proposed in this paper uses various classification methods to predict heart disease, with an accuracy of 88.7%.\n",
    "\n",
    "\n",
    "##### Rao, J. N., & Prasad, R. S. (2021). An enhanced novel Dynamic Data Processing (ENDDP) algorithm for predicting heart disease in machine learning. International Journal of Scientific Research in Computer Science, Engineering and Information Technology, 94–104. https://doi.org/10.32628/cseit206429\n",
    "\n",
    "\n",
    "    Machine Learning is increasing in development and can solve complex problems, such as the most difficult one in the medical world, the prediction of heart disease. Improving the algorithms that use complex data sets can improve diagnoses in the medical world. \"In this article, An Enhanced New Dynamic Data Processing (ENDDP) Algorithm is developed to predict the early stages of heart disease\" (abstract para 1).\n",
    "\n",
    "\n",
    "##### Reddy, G. T., Reddy, M. P., Lakshmanna, K., Rajput, D. S., Kaluri, R., & Srivastava, G. (2019). Hybrid genetic algorithm and a fuzzy logic classifier for heart disease diagnosis. Evolutionary Intelligence, 13(2), 185–196. https://doi.org/10.1007/s12065-019-00327-1 \n",
    "\n",
    "\n",
    "    \"For the past two decades, most of the people from developing countries [have been] suffering from heart disease\" (abstract para 1). Early diagnosis can mitigate risk and cost. The adaptive genetic algorithm with fuzzy logic (AGAFL) is a prediction model for heart disease. Experiments have proved this model has outperformed prior models.\n",
    "\n"
   ]
  },
  {
   "cell_type": "code",
   "execution_count": null,
   "id": "f2072a3e-f1a3-4c2c-97a5-451083054708",
   "metadata": {},
   "outputs": [],
   "source": []
  }
 ],
 "metadata": {
  "kernelspec": {
   "display_name": "R",
   "language": "R",
   "name": "ir"
  },
  "language_info": {
   "codemirror_mode": "r",
   "file_extension": ".r",
   "mimetype": "text/x-r-source",
   "name": "R",
   "pygments_lexer": "r",
   "version": "4.1.3"
  }
 },
 "nbformat": 4,
 "nbformat_minor": 5
}
