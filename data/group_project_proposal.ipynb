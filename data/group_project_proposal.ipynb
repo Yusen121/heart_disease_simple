{
 "cells": [
  {
   "cell_type": "markdown",
   "id": "14fe2dab-09f0-40fa-9e58-8bdfe71f3335",
   "metadata": {},
   "source": [
    "# DSCI 100/Section 009/Group 169 Group Project Proposal\n",
    "\n",
    "### [data_set_name] Analysis Proposal\n",
    "By: Shady Abo El Kasim, Nalan Goosen, Labella Li, Yusen Wu"
   ]
  },
  {
   "cell_type": "markdown",
   "id": "e26cc874-dd10-4f64-9aa1-5abe451a3141",
   "metadata": {},
   "source": [
    "#### Introduction\n",
    "\n",
    "\n",
    "* *Provide some relevant background information on the topic so that someone unfamiliar with it will be prepared to understand the rest of your proposal*\n",
    "* *Clearly state the question you will try to answer with your project*\n",
    "    * predictive question: asks about predictions of measurements or labels, what and not why (ex. \"what will an individual choose based on prior data?\")\n",
    "* *Identify and describe the dataset that will be used to answer the question*\n",
    "    * identify origins of dataset/brief description of organization, when the dataset was pulled"
   ]
  },
  {
   "cell_type": "code",
   "execution_count": 2,
   "id": "2a73f89c-c94e-40d0-8f45-3f817e981de2",
   "metadata": {},
   "outputs": [
    {
     "name": "stderr",
     "output_type": "stream",
     "text": [
      "── \u001b[1mAttaching packages\u001b[22m ─────────────────────────────────────── tidyverse 1.3.1 ──\n",
      "\n",
      "\u001b[32m✔\u001b[39m \u001b[34mggplot2\u001b[39m 3.3.6     \u001b[32m✔\u001b[39m \u001b[34mpurrr  \u001b[39m 0.3.4\n",
      "\u001b[32m✔\u001b[39m \u001b[34mtibble \u001b[39m 3.1.7     \u001b[32m✔\u001b[39m \u001b[34mdplyr  \u001b[39m 1.0.9\n",
      "\u001b[32m✔\u001b[39m \u001b[34mtidyr  \u001b[39m 1.2.0     \u001b[32m✔\u001b[39m \u001b[34mstringr\u001b[39m 1.4.0\n",
      "\u001b[32m✔\u001b[39m \u001b[34mreadr  \u001b[39m 2.1.2     \u001b[32m✔\u001b[39m \u001b[34mforcats\u001b[39m 0.5.1\n",
      "\n",
      "── \u001b[1mConflicts\u001b[22m ────────────────────────────────────────── tidyverse_conflicts() ──\n",
      "\u001b[31m✖\u001b[39m \u001b[34mdplyr\u001b[39m::\u001b[32mfilter()\u001b[39m masks \u001b[34mstats\u001b[39m::filter()\n",
      "\u001b[31m✖\u001b[39m \u001b[34mdplyr\u001b[39m::\u001b[32mlag()\u001b[39m    masks \u001b[34mstats\u001b[39m::lag()\n",
      "\n",
      "── \u001b[1mAttaching packages\u001b[22m ────────────────────────────────────── tidymodels 1.0.0 ──\n",
      "\n",
      "\u001b[32m✔\u001b[39m \u001b[34mbroom       \u001b[39m 1.0.0     \u001b[32m✔\u001b[39m \u001b[34mrsample     \u001b[39m 1.0.0\n",
      "\u001b[32m✔\u001b[39m \u001b[34mdials       \u001b[39m 1.0.0     \u001b[32m✔\u001b[39m \u001b[34mtune        \u001b[39m 1.0.0\n",
      "\u001b[32m✔\u001b[39m \u001b[34minfer       \u001b[39m 1.0.2     \u001b[32m✔\u001b[39m \u001b[34mworkflows   \u001b[39m 1.0.0\n",
      "\u001b[32m✔\u001b[39m \u001b[34mmodeldata   \u001b[39m 1.0.0     \u001b[32m✔\u001b[39m \u001b[34mworkflowsets\u001b[39m 1.0.0\n",
      "\u001b[32m✔\u001b[39m \u001b[34mparsnip     \u001b[39m 1.0.0     \u001b[32m✔\u001b[39m \u001b[34myardstick   \u001b[39m 1.0.0\n",
      "\u001b[32m✔\u001b[39m \u001b[34mrecipes     \u001b[39m 1.0.1     \n",
      "\n",
      "── \u001b[1mConflicts\u001b[22m ───────────────────────────────────────── tidymodels_conflicts() ──\n",
      "\u001b[31m✖\u001b[39m \u001b[34mscales\u001b[39m::\u001b[32mdiscard()\u001b[39m masks \u001b[34mpurrr\u001b[39m::discard()\n",
      "\u001b[31m✖\u001b[39m \u001b[34mdplyr\u001b[39m::\u001b[32mfilter()\u001b[39m   masks \u001b[34mstats\u001b[39m::filter()\n",
      "\u001b[31m✖\u001b[39m \u001b[34mrecipes\u001b[39m::\u001b[32mfixed()\u001b[39m  masks \u001b[34mstringr\u001b[39m::fixed()\n",
      "\u001b[31m✖\u001b[39m \u001b[34mdplyr\u001b[39m::\u001b[32mlag()\u001b[39m      masks \u001b[34mstats\u001b[39m::lag()\n",
      "\u001b[31m✖\u001b[39m \u001b[34myardstick\u001b[39m::\u001b[32mspec()\u001b[39m masks \u001b[34mreadr\u001b[39m::spec()\n",
      "\u001b[31m✖\u001b[39m \u001b[34mrecipes\u001b[39m::\u001b[32mstep()\u001b[39m   masks \u001b[34mstats\u001b[39m::step()\n",
      "\u001b[34m•\u001b[39m Use \u001b[32mtidymodels_prefer()\u001b[39m to resolve common conflicts.\n",
      "\n"
     ]
    }
   ],
   "source": [
    "### Please run this cell before continuing.\n",
    "\n",
    "library(tidyverse)\n",
    "library(repr)\n",
    "library(tidymodels)\n",
    "options(repr.matrix.max.rows = 6)"
   ]
  },
  {
   "cell_type": "markdown",
   "id": "3523ae60-86cb-46c2-85c3-3354daed2a10",
   "metadata": {},
   "source": [
    "#### Preliminary Exploratory Data Analysis\n",
    "\n",
    "* *Demonstrate that the dataset can be read from the web into R*\n",
    "    * read_csv from github (will upload dataet that we're using onto the repo)\n",
    "* *Clean and wrangle your data into a tidy format*\n",
    "    * filter for one country/time range \n",
    "* *Using only training data, summarize the data in at least one table (this is exploratory data analysis). An example of a useful table could be one that reports the number of observations in each class, the means of the predictor variables you plan to use in your analysis and how many rows have missing data.*\n",
    "    * initial_split \n",
    "    * group_by, summarize\n",
    "    * averages\n",
    "    * map_df?\n",
    "    * ^ allowed to use more than one table for several functions\n",
    "* *Using only training data, visualize the data with at least one plot relevant to the analysis you plan to do (this is exploratory data analysis). An example of a useful visualization could be one that compares the distributions of each of the predictor variables you plan to use in your analysis.*\n",
    "    * discuss which variables to use in analysis"
   ]
  },
  {
   "cell_type": "code",
   "execution_count": 63,
   "id": "bc6b3959-4062-439d-9797-b196123b374b",
   "metadata": {},
   "outputs": [
    {
     "name": "stderr",
     "output_type": "stream",
     "text": [
      "Warning message:\n",
      "“One or more parsing issues, see `problems()` for details”\n",
      "\u001b[1mRows: \u001b[22m\u001b[34m63\u001b[39m \u001b[1mColumns: \u001b[22m\u001b[34m318\u001b[39m\n",
      "\u001b[36m──\u001b[39m \u001b[1mColumn specification\u001b[22m \u001b[36m────────────────────────────────────────────────────────\u001b[39m\n",
      "\u001b[1mDelimiter:\u001b[22m \",\"\n",
      "\u001b[31mchr\u001b[39m (241): Products 5, October 1995, November 1995, December 1995, January 1...\n",
      "\u001b[32mdbl\u001b[39m  (77): October 2015, November 2015, December 2015, January 2016, Februar...\n",
      "\n",
      "\u001b[36mℹ\u001b[39m Use `spec()` to retrieve the full column specification for this data.\n",
      "\u001b[36mℹ\u001b[39m Specify the column types or set `show_col_types = FALSE` to quiet this message.\n"
     ]
    },
    {
     "data": {
      "text/html": [
       "<table class=\"dataframe\">\n",
       "<caption>A spec_tbl_df: 63 × 318</caption>\n",
       "<thead>\n",
       "\t<tr><th scope=col>Products 5</th><th scope=col>October 1995</th><th scope=col>November 1995</th><th scope=col>December 1995</th><th scope=col>January 1996</th><th scope=col>February 1996</th><th scope=col>March 1996</th><th scope=col>April 1996</th><th scope=col>May 1996</th><th scope=col>June 1996</th><th scope=col>⋯</th><th scope=col>May 2021</th><th scope=col>June 2021</th><th scope=col>July 2021</th><th scope=col>August 2021</th><th scope=col>September 2021</th><th scope=col>October 2021</th><th scope=col>November 2021</th><th scope=col>December 2021</th><th scope=col>January 2022</th><th scope=col>February 2022</th></tr>\n",
       "\t<tr><th scope=col>&lt;chr&gt;</th><th scope=col>&lt;chr&gt;</th><th scope=col>&lt;chr&gt;</th><th scope=col>&lt;chr&gt;</th><th scope=col>&lt;chr&gt;</th><th scope=col>&lt;chr&gt;</th><th scope=col>&lt;chr&gt;</th><th scope=col>&lt;chr&gt;</th><th scope=col>&lt;chr&gt;</th><th scope=col>&lt;chr&gt;</th><th scope=col>⋯</th><th scope=col>&lt;dbl&gt;</th><th scope=col>&lt;dbl&gt;</th><th scope=col>&lt;dbl&gt;</th><th scope=col>&lt;dbl&gt;</th><th scope=col>&lt;dbl&gt;</th><th scope=col>&lt;dbl&gt;</th><th scope=col>&lt;dbl&gt;</th><th scope=col>&lt;dbl&gt;</th><th scope=col>&lt;dbl&gt;</th><th scope=col>&lt;dbl&gt;</th></tr>\n",
       "</thead>\n",
       "<tbody>\n",
       "\t<tr><td>NA                       </td><td>Dollars</td><td>NA   </td><td>NA   </td><td>NA   </td><td>NA   </td><td>NA   </td><td>NA   </td><td>NA   </td><td>NA   </td><td>⋯</td><td>   NA</td><td>   NA</td><td>   NA</td><td>   NA</td><td>   NA</td><td>   NA</td><td>   NA</td><td>   NA</td><td>   NA</td><td>   NA</td></tr>\n",
       "\t<tr><td>Round steak, 1 kilogram  </td><td>9.92   </td><td>9.49 </td><td>9.88 </td><td>9.63 </td><td>9.96 </td><td>9.46 </td><td>9.94 </td><td>9.65 </td><td>9.65 </td><td>⋯</td><td>18.53</td><td>18.71</td><td>19.05</td><td>19.23</td><td>20.01</td><td>20.34</td><td>19.77</td><td>19.66</td><td>20.03</td><td>19.79</td></tr>\n",
       "\t<tr><td>Sirloin steak, 1 kilogram</td><td>11.48  </td><td>11.11</td><td>11.10</td><td>11.09</td><td>11.36</td><td>10.95</td><td>10.95</td><td>10.74</td><td>11.04</td><td>⋯</td><td>23.38</td><td>24.34</td><td>25.22</td><td>25.33</td><td>24.98</td><td>26.45</td><td>25.69</td><td>25.94</td><td>26.09</td><td>26.39</td></tr>\n",
       "\t<tr><td>⋮</td><td>⋮</td><td>⋮</td><td>⋮</td><td>⋮</td><td>⋮</td><td>⋮</td><td>⋮</td><td>⋮</td><td>⋮</td><td>⋱</td><td>⋮</td><td>⋮</td><td>⋮</td><td>⋮</td><td>⋮</td><td>⋮</td><td>⋮</td><td>⋮</td><td>⋮</td><td>⋮</td></tr>\n",
       "\t<tr><td><span style=white-space:pre-wrap>4                                                                                                                      </span></td><td>Beginning May 4, 2022, national average prices will be available in the Monthly Average Retail Prices for Selected Products &lt;a href=https://www150.statcan.gc.ca/t1/tbl1/en/tv.action?pid=1810024501&gt;(18-10-0245-01)&lt;/a&gt; table. At that time this table will also include an expanded list of products, based on enhanced data sources and methods. These new data series will begin with March 2022 data. This table uses scanner data (also known as transaction data) collected from Canadian retailers. Transaction data provide a comprehensive electronic record of the transactions made through a retailer’s point-of-sale system, and contain relevant pricing information, such as product descriptions and quantities sold. The Monthly Average Retail Prices for Food and Other Selected Products &lt;a href=https://www150.statcan.gc.ca/t1/tbl1/en/tv.action?pid=1810000201&gt;(18-10-0002-01)&lt;/a&gt; table will no longer be published after March 16, 2022. Note that these tables are not directly comparable due to &lt;a href=https://www150.statcan.gc.ca/n1/pub/62f0014m/62f0014m2020008-eng.htm&gt;methodological differences&lt;/a&gt;, and do not contain all the same products and may contain different product definitions.</td><td>NA</td><td>NA</td><td>NA</td><td>NA</td><td>NA</td><td>NA</td><td>NA</td><td>NA</td><td>⋯</td><td>NA</td><td>NA</td><td>NA</td><td>NA</td><td>NA</td><td>NA</td><td>NA</td><td>NA</td><td>NA</td><td>NA</td></tr>\n",
       "\t<tr><td>5                                                                                                                      </td><td>Average prices are derived for products as defined by a specific size or quantity measure (for example, 4 litres, 1 dozen) and exclude taxes. In most cases, a standard size or quantity can be easily identified as the measure of best fit for a particular product (for example, 1 dozen eggs). For certain products which are available to consumers in a wide variety of package sizes, prices for products within a set range of package sizes are standardized before the average price calculation. Standardization is an accepted practice in the field of price measurement. It allows for the measurement of a broader group of product sizes which increases the robustness of a given sampled product category, and improves the comparability of products across time and geographies. For example, prices for blocks of cheese ranging in size from 400 g to 800 g are adjusted to represent a 500 g block of cheese, and are represented as such in the average prices table.                                                                                                                                                                                                                                    </td><td>NA</td><td>NA</td><td>NA</td><td>NA</td><td>NA</td><td>NA</td><td>NA</td><td>NA</td><td>⋯</td><td>NA</td><td>NA</td><td>NA</td><td>NA</td><td>NA</td><td>NA</td><td>NA</td><td>NA</td><td>NA</td><td>NA</td></tr>\n",
       "\t<tr><td>How to cite: Statistics Canada. Table 18-10-0002-01  Monthly average retail prices for food and other selected products</td><td>NA                                                                                                                                                                                                                                                                                                                                                                                                                                                                                                                                                                                                                                                                                                                                                                                                                                                                                                                                                                                                                                                                                                                                                                                                                               </td><td>NA</td><td>NA</td><td>NA</td><td>NA</td><td>NA</td><td>NA</td><td>NA</td><td>NA</td><td>⋯</td><td>NA</td><td>NA</td><td>NA</td><td>NA</td><td>NA</td><td>NA</td><td>NA</td><td>NA</td><td>NA</td><td>NA</td></tr>\n",
       "</tbody>\n",
       "</table>\n"
      ],
      "text/latex": [
       "A spec\\_tbl\\_df: 63 × 318\n",
       "\\begin{tabular}{lllllllllllllllllllll}\n",
       " Products 5 & October 1995 & November 1995 & December 1995 & January 1996 & February 1996 & March 1996 & April 1996 & May 1996 & June 1996 & ⋯ & May 2021 & June 2021 & July 2021 & August 2021 & September 2021 & October 2021 & November 2021 & December 2021 & January 2022 & February 2022\\\\\n",
       " <chr> & <chr> & <chr> & <chr> & <chr> & <chr> & <chr> & <chr> & <chr> & <chr> & ⋯ & <dbl> & <dbl> & <dbl> & <dbl> & <dbl> & <dbl> & <dbl> & <dbl> & <dbl> & <dbl>\\\\\n",
       "\\hline\n",
       "\t NA                        & Dollars & NA    & NA    & NA    & NA    & NA    & NA    & NA    & NA    & ⋯ &    NA &    NA &    NA &    NA &    NA &    NA &    NA &    NA &    NA &    NA\\\\\n",
       "\t Round steak, 1 kilogram   & 9.92    & 9.49  & 9.88  & 9.63  & 9.96  & 9.46  & 9.94  & 9.65  & 9.65  & ⋯ & 18.53 & 18.71 & 19.05 & 19.23 & 20.01 & 20.34 & 19.77 & 19.66 & 20.03 & 19.79\\\\\n",
       "\t Sirloin steak, 1 kilogram & 11.48   & 11.11 & 11.10 & 11.09 & 11.36 & 10.95 & 10.95 & 10.74 & 11.04 & ⋯ & 23.38 & 24.34 & 25.22 & 25.33 & 24.98 & 26.45 & 25.69 & 25.94 & 26.09 & 26.39\\\\\n",
       "\t ⋮ & ⋮ & ⋮ & ⋮ & ⋮ & ⋮ & ⋮ & ⋮ & ⋮ & ⋮ & ⋱ & ⋮ & ⋮ & ⋮ & ⋮ & ⋮ & ⋮ & ⋮ & ⋮ & ⋮ & ⋮\\\\\n",
       "\t 4                                                                                                                       & Beginning May 4, 2022, national average prices will be available in the Monthly Average Retail Prices for Selected Products <a href=https://www150.statcan.gc.ca/t1/tbl1/en/tv.action?pid=1810024501>(18-10-0245-01)</a> table. At that time this table will also include an expanded list of products, based on enhanced data sources and methods. These new data series will begin with March 2022 data. This table uses scanner data (also known as transaction data) collected from Canadian retailers. Transaction data provide a comprehensive electronic record of the transactions made through a retailer’s point-of-sale system, and contain relevant pricing information, such as product descriptions and quantities sold. The Monthly Average Retail Prices for Food and Other Selected Products <a href=https://www150.statcan.gc.ca/t1/tbl1/en/tv.action?pid=1810000201>(18-10-0002-01)</a> table will no longer be published after March 16, 2022. Note that these tables are not directly comparable due to <a href=https://www150.statcan.gc.ca/n1/pub/62f0014m/62f0014m2020008-eng.htm>methodological differences</a>, and do not contain all the same products and may contain different product definitions. & NA & NA & NA & NA & NA & NA & NA & NA & ⋯ & NA & NA & NA & NA & NA & NA & NA & NA & NA & NA\\\\\n",
       "\t 5                                                                                                                       & Average prices are derived for products as defined by a specific size or quantity measure (for example, 4 litres, 1 dozen) and exclude taxes. In most cases, a standard size or quantity can be easily identified as the measure of best fit for a particular product (for example, 1 dozen eggs). For certain products which are available to consumers in a wide variety of package sizes, prices for products within a set range of package sizes are standardized before the average price calculation. Standardization is an accepted practice in the field of price measurement. It allows for the measurement of a broader group of product sizes which increases the robustness of a given sampled product category, and improves the comparability of products across time and geographies. For example, prices for blocks of cheese ranging in size from 400 g to 800 g are adjusted to represent a 500 g block of cheese, and are represented as such in the average prices table.                                                                                                                                                                                                                                     & NA & NA & NA & NA & NA & NA & NA & NA & ⋯ & NA & NA & NA & NA & NA & NA & NA & NA & NA & NA\\\\\n",
       "\t How to cite: Statistics Canada. Table 18-10-0002-01  Monthly average retail prices for food and other selected products & NA                                                                                                                                                                                                                                                                                                                                                                                                                                                                                                                                                                                                                                                                                                                                                                                                                                                                                                                                                                                                                                                                                                                                                                                                                                & NA & NA & NA & NA & NA & NA & NA & NA & ⋯ & NA & NA & NA & NA & NA & NA & NA & NA & NA & NA\\\\\n",
       "\\end{tabular}\n"
      ],
      "text/markdown": [
       "\n",
       "A spec_tbl_df: 63 × 318\n",
       "\n",
       "| Products 5 &lt;chr&gt; | October 1995 &lt;chr&gt; | November 1995 &lt;chr&gt; | December 1995 &lt;chr&gt; | January 1996 &lt;chr&gt; | February 1996 &lt;chr&gt; | March 1996 &lt;chr&gt; | April 1996 &lt;chr&gt; | May 1996 &lt;chr&gt; | June 1996 &lt;chr&gt; | ⋯ ⋯ | May 2021 &lt;dbl&gt; | June 2021 &lt;dbl&gt; | July 2021 &lt;dbl&gt; | August 2021 &lt;dbl&gt; | September 2021 &lt;dbl&gt; | October 2021 &lt;dbl&gt; | November 2021 &lt;dbl&gt; | December 2021 &lt;dbl&gt; | January 2022 &lt;dbl&gt; | February 2022 &lt;dbl&gt; |\n",
       "|---|---|---|---|---|---|---|---|---|---|---|---|---|---|---|---|---|---|---|---|---|\n",
       "| NA                        | Dollars | NA    | NA    | NA    | NA    | NA    | NA    | NA    | NA    | ⋯ |    NA |    NA |    NA |    NA |    NA |    NA |    NA |    NA |    NA |    NA |\n",
       "| Round steak, 1 kilogram   | 9.92    | 9.49  | 9.88  | 9.63  | 9.96  | 9.46  | 9.94  | 9.65  | 9.65  | ⋯ | 18.53 | 18.71 | 19.05 | 19.23 | 20.01 | 20.34 | 19.77 | 19.66 | 20.03 | 19.79 |\n",
       "| Sirloin steak, 1 kilogram | 11.48   | 11.11 | 11.10 | 11.09 | 11.36 | 10.95 | 10.95 | 10.74 | 11.04 | ⋯ | 23.38 | 24.34 | 25.22 | 25.33 | 24.98 | 26.45 | 25.69 | 25.94 | 26.09 | 26.39 |\n",
       "| ⋮ | ⋮ | ⋮ | ⋮ | ⋮ | ⋮ | ⋮ | ⋮ | ⋮ | ⋮ | ⋱ | ⋮ | ⋮ | ⋮ | ⋮ | ⋮ | ⋮ | ⋮ | ⋮ | ⋮ | ⋮ |\n",
       "| 4                                                                                                                       | Beginning May 4, 2022, national average prices will be available in the Monthly Average Retail Prices for Selected Products &lt;a href=https://www150.statcan.gc.ca/t1/tbl1/en/tv.action?pid=1810024501&gt;(18-10-0245-01)&lt;/a&gt; table. At that time this table will also include an expanded list of products, based on enhanced data sources and methods. These new data series will begin with March 2022 data. This table uses scanner data (also known as transaction data) collected from Canadian retailers. Transaction data provide a comprehensive electronic record of the transactions made through a retailer’s point-of-sale system, and contain relevant pricing information, such as product descriptions and quantities sold. The Monthly Average Retail Prices for Food and Other Selected Products &lt;a href=https://www150.statcan.gc.ca/t1/tbl1/en/tv.action?pid=1810000201&gt;(18-10-0002-01)&lt;/a&gt; table will no longer be published after March 16, 2022. Note that these tables are not directly comparable due to &lt;a href=https://www150.statcan.gc.ca/n1/pub/62f0014m/62f0014m2020008-eng.htm&gt;methodological differences&lt;/a&gt;, and do not contain all the same products and may contain different product definitions. | NA | NA | NA | NA | NA | NA | NA | NA | ⋯ | NA | NA | NA | NA | NA | NA | NA | NA | NA | NA |\n",
       "| 5                                                                                                                       | Average prices are derived for products as defined by a specific size or quantity measure (for example, 4 litres, 1 dozen) and exclude taxes. In most cases, a standard size or quantity can be easily identified as the measure of best fit for a particular product (for example, 1 dozen eggs). For certain products which are available to consumers in a wide variety of package sizes, prices for products within a set range of package sizes are standardized before the average price calculation. Standardization is an accepted practice in the field of price measurement. It allows for the measurement of a broader group of product sizes which increases the robustness of a given sampled product category, and improves the comparability of products across time and geographies. For example, prices for blocks of cheese ranging in size from 400 g to 800 g are adjusted to represent a 500 g block of cheese, and are represented as such in the average prices table.                                                                                                                                                                                                                                     | NA | NA | NA | NA | NA | NA | NA | NA | ⋯ | NA | NA | NA | NA | NA | NA | NA | NA | NA | NA |\n",
       "| How to cite: Statistics Canada. Table 18-10-0002-01  Monthly average retail prices for food and other selected products | NA                                                                                                                                                                                                                                                                                                                                                                                                                                                                                                                                                                                                                                                                                                                                                                                                                                                                                                                                                                                                                                                                                                                                                                                                                                | NA | NA | NA | NA | NA | NA | NA | NA | ⋯ | NA | NA | NA | NA | NA | NA | NA | NA | NA | NA |\n",
       "\n"
      ],
      "text/plain": [
       "   Products 5                                                                                                             \n",
       "1  NA                                                                                                                     \n",
       "2  Round steak, 1 kilogram                                                                                                \n",
       "3  Sirloin steak, 1 kilogram                                                                                              \n",
       "⋮  ⋮                                                                                                                      \n",
       "61 4                                                                                                                      \n",
       "62 5                                                                                                                      \n",
       "63 How to cite: Statistics Canada. Table 18-10-0002-01  Monthly average retail prices for food and other selected products\n",
       "   October 1995                                                                                                                                                                                                                                                                                                                                                                                                                                                                                                                                                                                                                                                                                                                                                                                                                                                                                                                                                                                                                                                                                                                                                                                                                     \n",
       "1  Dollars                                                                                                                                                                                                                                                                                                                                                                                                                                                                                                                                                                                                                                                                                                                                                                                                                                                                                                                                                                                                                                                                                                                                                                                                                          \n",
       "2  9.92                                                                                                                                                                                                                                                                                                                                                                                                                                                                                                                                                                                                                                                                                                                                                                                                                                                                                                                                                                                                                                                                                                                                                                                                                             \n",
       "3  11.48                                                                                                                                                                                                                                                                                                                                                                                                                                                                                                                                                                                                                                                                                                                                                                                                                                                                                                                                                                                                                                                                                                                                                                                                                            \n",
       "⋮  ⋮                                                                                                                                                                                                                                                                                                                                                                                                                                                                                                                                                                                                                                                                                                                                                                                                                                                                                                                                                                                                                                                                                                                                                                                                                                \n",
       "61 Beginning May 4, 2022, national average prices will be available in the Monthly Average Retail Prices for Selected Products <a href=https://www150.statcan.gc.ca/t1/tbl1/en/tv.action?pid=1810024501>(18-10-0245-01)</a> table. At that time this table will also include an expanded list of products, based on enhanced data sources and methods. These new data series will begin with March 2022 data. This table uses scanner data (also known as transaction data) collected from Canadian retailers. Transaction data provide a comprehensive electronic record of the transactions made through a retailer’s point-of-sale system, and contain relevant pricing information, such as product descriptions and quantities sold. The Monthly Average Retail Prices for Food and Other Selected Products <a href=https://www150.statcan.gc.ca/t1/tbl1/en/tv.action?pid=1810000201>(18-10-0002-01)</a> table will no longer be published after March 16, 2022. Note that these tables are not directly comparable due to <a href=https://www150.statcan.gc.ca/n1/pub/62f0014m/62f0014m2020008-eng.htm>methodological differences</a>, and do not contain all the same products and may contain different product definitions.\n",
       "62 Average prices are derived for products as defined by a specific size or quantity measure (for example, 4 litres, 1 dozen) and exclude taxes. In most cases, a standard size or quantity can be easily identified as the measure of best fit for a particular product (for example, 1 dozen eggs). For certain products which are available to consumers in a wide variety of package sizes, prices for products within a set range of package sizes are standardized before the average price calculation. Standardization is an accepted practice in the field of price measurement. It allows for the measurement of a broader group of product sizes which increases the robustness of a given sampled product category, and improves the comparability of products across time and geographies. For example, prices for blocks of cheese ranging in size from 400 g to 800 g are adjusted to represent a 500 g block of cheese, and are represented as such in the average prices table.                                                                                                                                                                                                                                    \n",
       "63 NA                                                                                                                                                                                                                                                                                                                                                                                                                                                                                                                                                                                                                                                                                                                                                                                                                                                                                                                                                                                                                                                                                                                                                                                                                               \n",
       "   November 1995 December 1995 January 1996 February 1996 March 1996 April 1996\n",
       "1  NA            NA            NA           NA            NA         NA        \n",
       "2  9.49          9.88          9.63         9.96          9.46       9.94      \n",
       "3  11.11         11.10         11.09        11.36         10.95      10.95     \n",
       "⋮  ⋮             ⋮             ⋮            ⋮             ⋮          ⋮         \n",
       "61 NA            NA            NA           NA            NA         NA        \n",
       "62 NA            NA            NA           NA            NA         NA        \n",
       "63 NA            NA            NA           NA            NA         NA        \n",
       "   May 1996 June 1996 ⋯ May 2021 June 2021 July 2021 August 2021 September 2021\n",
       "1  NA       NA        ⋯    NA       NA        NA        NA          NA         \n",
       "2  9.65     9.65      ⋯ 18.53    18.71     19.05     19.23       20.01         \n",
       "3  10.74    11.04     ⋯ 23.38    24.34     25.22     25.33       24.98         \n",
       "⋮  ⋮        ⋮         ⋱ ⋮        ⋮         ⋮         ⋮           ⋮             \n",
       "61 NA       NA        ⋯ NA       NA        NA        NA          NA            \n",
       "62 NA       NA        ⋯ NA       NA        NA        NA          NA            \n",
       "63 NA       NA        ⋯ NA       NA        NA        NA          NA            \n",
       "   October 2021 November 2021 December 2021 January 2022 February 2022\n",
       "1     NA           NA            NA            NA           NA        \n",
       "2  20.34        19.77         19.66         20.03        19.79        \n",
       "3  26.45        25.69         25.94         26.09        26.39        \n",
       "⋮  ⋮            ⋮             ⋮             ⋮            ⋮            \n",
       "61 NA           NA            NA            NA           NA           \n",
       "62 NA           NA            NA            NA           NA           \n",
       "63 NA           NA            NA            NA           NA           "
      ]
     },
     "metadata": {},
     "output_type": "display_data"
    }
   ],
   "source": [
    "# testing data pull\n",
    "\n",
    "test_data_pull <- read_csv(\"https://raw.githubusercontent.com/labellali/dsci-100-2022w1-group-169/main/1810000201-eng.csv\", skip = 9)\n",
    "\n",
    "# wip cleaning test\n",
    "\n",
    "#test_data_tidy <- test_data_pull |>\n",
    " #   head(52) |>\n",
    " #   rename(product_name = \"Products 5\") |>\n",
    " #   filter(product_name != is.na(product_name)) |>\n",
    " #   mutate(\"October 2015\":\"February 2022\" = as.character(\"October 2015\":\"February 2022\")) |>\n",
    " #   pivot_longer(\"October 1995\":\"February 2022\",\n",
    " #               names_to = \"time_temp\",\n",
    " #               values_to = \"avg_monthly_price\")\n",
    "\n",
    "test_data_pull"
   ]
  },
  {
   "cell_type": "markdown",
   "id": "9196466c-bd57-4f79-af6f-136aaf64c305",
   "metadata": {},
   "source": [
    "#### Method\n",
    "\n",
    "* *Explain how you will conduct either your data analysis and which variables/columns you will use. Note - you do not need to use all variables/columns that exist in the raw data set. In fact, that's often not a good idea. For each variable think: is this a useful variable for prediction?*\n",
    "    * filter for certain country/time range\n",
    "    * select(-removal) any unnecessary columns\n",
    "* *Describe at least one way that you will visualize the results*\n",
    "    * consider facet_grid?\n",
    "    * different kinds of geom visualization functions"
   ]
  },
  {
   "cell_type": "markdown",
   "id": "565b3d66-d513-42ed-9557-3f82f09236df",
   "metadata": {},
   "source": [
    "#### Expected outcomes and significance\n",
    "\n",
    "* *What do you expect to find?*\n",
    "* *What impact could such findings have?*\n",
    "* *What future questions could this lead to?*"
   ]
  },
  {
   "cell_type": "code",
   "execution_count": null,
   "id": "53968fdc-23e2-482c-a236-f8d6ddd78aac",
   "metadata": {},
   "outputs": [],
   "source": []
  }
 ],
 "metadata": {
  "kernelspec": {
   "display_name": "R",
   "language": "R",
   "name": "ir"
  },
  "language_info": {
   "codemirror_mode": "r",
   "file_extension": ".r",
   "mimetype": "text/x-r-source",
   "name": "R",
   "pygments_lexer": "r",
   "version": "4.1.3"
  }
 },
 "nbformat": 4,
 "nbformat_minor": 5
}
