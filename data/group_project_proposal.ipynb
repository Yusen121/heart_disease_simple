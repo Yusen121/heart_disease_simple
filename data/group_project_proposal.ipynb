{
 "cells": [
  {
   "cell_type": "markdown",
   "id": "14fe2dab-09f0-40fa-9e58-8bdfe71f3335",
   "metadata": {},
   "source": [
    "# DSCI 100/Section 009/Group 169 Group Project Proposal\n",
    "\n",
    "### [data_set_name] Analysis Proposal\n",
    "By: Shady Abo El Kasim, Nalan Goosen, Labella Li, Yusen Wu"
   ]
  },
  {
   "cell_type": "markdown",
   "id": "e26cc874-dd10-4f64-9aa1-5abe451a3141",
   "metadata": {},
   "source": [
    "#### Introduction\n",
    "\n",
    "\n",
    "* *Provide some relevant background information on the topic so that someone unfamiliar with it will be prepared to understand the rest of your proposal*\n",
    "* *Clearly state the question you will try to answer with your project*\n",
    "    * predictive question: asks about predictions of measurements or labels, what and not why (ex. \"what will an individual choose based on prior data?\")\n",
    "* *Identify and describe the dataset that will be used to answer the question*\n",
    "    * identify origins of dataset/brief description of organization, when the dataset was pulled"
   ]
  },
  {
   "cell_type": "code",
   "execution_count": 2,
   "id": "2a73f89c-c94e-40d0-8f45-3f817e981de2",
   "metadata": {},
   "outputs": [
    {
     "name": "stderr",
     "output_type": "stream",
     "text": [
      "── \u001b[1mAttaching packages\u001b[22m ─────────────────────────────────────── tidyverse 1.3.1 ──\n",
      "\n",
      "\u001b[32m✔\u001b[39m \u001b[34mggplot2\u001b[39m 3.3.6     \u001b[32m✔\u001b[39m \u001b[34mpurrr  \u001b[39m 0.3.4\n",
      "\u001b[32m✔\u001b[39m \u001b[34mtibble \u001b[39m 3.1.7     \u001b[32m✔\u001b[39m \u001b[34mdplyr  \u001b[39m 1.0.9\n",
      "\u001b[32m✔\u001b[39m \u001b[34mtidyr  \u001b[39m 1.2.0     \u001b[32m✔\u001b[39m \u001b[34mstringr\u001b[39m 1.4.0\n",
      "\u001b[32m✔\u001b[39m \u001b[34mreadr  \u001b[39m 2.1.2     \u001b[32m✔\u001b[39m \u001b[34mforcats\u001b[39m 0.5.1\n",
      "\n",
      "── \u001b[1mConflicts\u001b[22m ────────────────────────────────────────── tidyverse_conflicts() ──\n",
      "\u001b[31m✖\u001b[39m \u001b[34mdplyr\u001b[39m::\u001b[32mfilter()\u001b[39m masks \u001b[34mstats\u001b[39m::filter()\n",
      "\u001b[31m✖\u001b[39m \u001b[34mdplyr\u001b[39m::\u001b[32mlag()\u001b[39m    masks \u001b[34mstats\u001b[39m::lag()\n",
      "\n",
      "── \u001b[1mAttaching packages\u001b[22m ────────────────────────────────────── tidymodels 1.0.0 ──\n",
      "\n",
      "\u001b[32m✔\u001b[39m \u001b[34mbroom       \u001b[39m 1.0.0     \u001b[32m✔\u001b[39m \u001b[34mrsample     \u001b[39m 1.0.0\n",
      "\u001b[32m✔\u001b[39m \u001b[34mdials       \u001b[39m 1.0.0     \u001b[32m✔\u001b[39m \u001b[34mtune        \u001b[39m 1.0.0\n",
      "\u001b[32m✔\u001b[39m \u001b[34minfer       \u001b[39m 1.0.2     \u001b[32m✔\u001b[39m \u001b[34mworkflows   \u001b[39m 1.0.0\n",
      "\u001b[32m✔\u001b[39m \u001b[34mmodeldata   \u001b[39m 1.0.0     \u001b[32m✔\u001b[39m \u001b[34mworkflowsets\u001b[39m 1.0.0\n",
      "\u001b[32m✔\u001b[39m \u001b[34mparsnip     \u001b[39m 1.0.0     \u001b[32m✔\u001b[39m \u001b[34myardstick   \u001b[39m 1.0.0\n",
      "\u001b[32m✔\u001b[39m \u001b[34mrecipes     \u001b[39m 1.0.1     \n",
      "\n",
      "── \u001b[1mConflicts\u001b[22m ───────────────────────────────────────── tidymodels_conflicts() ──\n",
      "\u001b[31m✖\u001b[39m \u001b[34mscales\u001b[39m::\u001b[32mdiscard()\u001b[39m masks \u001b[34mpurrr\u001b[39m::discard()\n",
      "\u001b[31m✖\u001b[39m \u001b[34mdplyr\u001b[39m::\u001b[32mfilter()\u001b[39m   masks \u001b[34mstats\u001b[39m::filter()\n",
      "\u001b[31m✖\u001b[39m \u001b[34mrecipes\u001b[39m::\u001b[32mfixed()\u001b[39m  masks \u001b[34mstringr\u001b[39m::fixed()\n",
      "\u001b[31m✖\u001b[39m \u001b[34mdplyr\u001b[39m::\u001b[32mlag()\u001b[39m      masks \u001b[34mstats\u001b[39m::lag()\n",
      "\u001b[31m✖\u001b[39m \u001b[34myardstick\u001b[39m::\u001b[32mspec()\u001b[39m masks \u001b[34mreadr\u001b[39m::spec()\n",
      "\u001b[31m✖\u001b[39m \u001b[34mrecipes\u001b[39m::\u001b[32mstep()\u001b[39m   masks \u001b[34mstats\u001b[39m::step()\n",
      "\u001b[34m•\u001b[39m Use \u001b[32mtidymodels_prefer()\u001b[39m to resolve common conflicts.\n",
      "\n"
     ]
    }
   ],
   "source": [
    "### Please run this cell before continuing.\n",
    "\n",
    "library(tidyverse)\n",
    "library(repr)\n",
    "library(tidymodels)\n",
    "options(repr.matrix.max.rows = 6)"
   ]
  },
  {
   "cell_type": "markdown",
   "id": "3523ae60-86cb-46c2-85c3-3354daed2a10",
   "metadata": {},
   "source": [
    "#### Preliminary Exploratory Data Analysis\n",
    "\n",
    "* *Demonstrate that the dataset can be read from the web into R*\n",
    "    * read_csv from github (will upload dataet that we're using onto the repo)\n",
    "* *Clean and wrangle your data into a tidy format*\n",
    "    * filter for one country/time range \n",
    "* *Using only training data, summarize the data in at least one table (this is exploratory data analysis). An example of a useful table could be one that reports the number of observations in each class, the means of the predictor variables you plan to use in your analysis and how many rows have missing data.*\n",
    "    * initial_split \n",
    "    * group_by, summarize\n",
    "    * averages\n",
    "    * map_df?\n",
    "    * ^ allowed to use more than one table for several functions\n",
    "* *Using only training data, visualize the data with at least one plot relevant to the analysis you plan to do (this is exploratory data analysis). An example of a useful visualization could be one that compares the distributions of each of the predictor variables you plan to use in your analysis.*\n",
    "    * discuss which variables to use in analysis"
   ]
  },
  {
   "cell_type": "code",
   "execution_count": 1,
   "id": "bc6b3959-4062-439d-9797-b196123b374b",
   "metadata": {},
   "outputs": [
    {
     "ename": "ERROR",
     "evalue": "Error in read_csv(\"https://raw.githubusercontent.com/labellali/dsci-100-2022w1-group-169/main/1810000201-eng.csv\", : could not find function \"read_csv\"\n",
     "output_type": "error",
     "traceback": [
      "Error in read_csv(\"https://raw.githubusercontent.com/labellali/dsci-100-2022w1-group-169/main/1810000201-eng.csv\", : could not find function \"read_csv\"\nTraceback:\n"
     ]
    }
   ],
   "source": [
    "# testing data pull\n",
    "\n",
    "test_data_pull <- read_csv(\"https://raw.githubusercontent.com/labellali/dsci-100-2022w1-group-169/main/1810000201-eng.csv\", skip = 9)\n",
    "\n",
    "# wip cleaning test\n",
    "\n",
    "#test_data_tidy <- test_data_pull |>\n",
    " #   head(52) |>\n",
    " #   rename(product_name = \"Products 5\") |>\n",
    " #   filter(product_name != is.na(product_name)) |>\n",
    " #   mutate(\"October 2015\":\"February 2022\" = as.character(\"October 2015\":\"February 2022\")) |>\n",
    " #   pivot_longer(\"October 1995\":\"February 2022\",\n",
    " #               names_to = \"time_temp\",\n",
    " #               values_to = \"avg_monthly_price\")\n",
    "# yes\n",
    "\n",
    "test_data_pull"
   ]
  },
  {
   "cell_type": "markdown",
   "id": "9196466c-bd57-4f79-af6f-136aaf64c305",
   "metadata": {},
   "source": [
    "#### Method\n",
    "\n",
    "* *Explain how you will conduct either your data analysis and which variables/columns you will use. Note - you do not need to use all variables/columns that exist in the raw data set. In fact, that's often not a good idea. For each variable think: is this a useful variable for prediction?*\n",
    "    * filter for certain country/time range\n",
    "    * select(-removal) any unnecessary columns\n",
    "* *Describe at least one way that you will visualize the results*\n",
    "    * consider facet_grid?\n",
    "    * different kinds of geom visualization functions"
   ]
  },
  {
   "cell_type": "markdown",
   "id": "565b3d66-d513-42ed-9557-3f82f09236df",
   "metadata": {},
   "source": [
    "#### Expected outcomes and significance\n",
    "\n",
    "* *What do you expect to find?*\n",
    "* *What impact could such findings have?*\n",
    "* *What future questions could this lead to?*"
   ]
  },
  {
   "cell_type": "code",
   "execution_count": null,
   "id": "53968fdc-23e2-482c-a236-f8d6ddd78aac",
   "metadata": {},
   "outputs": [],
   "source": []
  }
 ],
 "metadata": {
  "kernelspec": {
   "display_name": "R",
   "language": "R",
   "name": "ir"
  },
  "language_info": {
   "codemirror_mode": "r",
   "file_extension": ".r",
   "mimetype": "text/x-r-source",
   "name": "R",
   "pygments_lexer": "r",
   "version": "4.1.3"
  }
 },
 "nbformat": 4,
 "nbformat_minor": 5
}
