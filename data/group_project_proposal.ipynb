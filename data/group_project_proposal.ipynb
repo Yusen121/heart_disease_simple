{
 "cells": [
  {
   "cell_type": "markdown",
   "id": "14fe2dab-09f0-40fa-9e58-8bdfe71f3335",
   "metadata": {},
   "source": [
    "# DSCI 100/Section 009/Group 169 Group Project Proposal\n",
    "\n",
    "### [data_set_name] Analysis Proposal\n",
    "By: Shady Abo El Kasim, Nalan Goosen, Labella Li, Yusen Wu"
   ]
  },
  {
   "cell_type": "markdown",
   "id": "e26cc874-dd10-4f64-9aa1-5abe451a3141",
   "metadata": {},
   "source": [
    "#### Introduction\n",
    "\n",
    "\n",
    "* *Provide some relevant background information on the topic so that someone unfamiliar with it will be prepared to understand the rest of your proposal*\n",
    "* *Clearly state the question you will try to answer with your project*\n",
    "    * predictive question: asks about predictions of measurements or labels, what and not why (ex. \"what will an individual choose based on prior data?\")\n",
    "* *Identify and describe the dataset that will be used to answer the question*\n",
    "    * identify origins of dataset/brief description of organization, when the dataset was pulled"
   ]
  },
  {
   "cell_type": "code",
   "execution_count": 2,
   "id": "2a73f89c-c94e-40d0-8f45-3f817e981de2",
   "metadata": {},
   "outputs": [
    {
     "name": "stderr",
     "output_type": "stream",
     "text": [
      "── \u001b[1mAttaching packages\u001b[22m ─────────────────────────────────────── tidyverse 1.3.1 ──\n",
      "\n",
      "\u001b[32m✔\u001b[39m \u001b[34mggplot2\u001b[39m 3.3.6     \u001b[32m✔\u001b[39m \u001b[34mpurrr  \u001b[39m 0.3.4\n",
      "\u001b[32m✔\u001b[39m \u001b[34mtibble \u001b[39m 3.1.7     \u001b[32m✔\u001b[39m \u001b[34mdplyr  \u001b[39m 1.0.9\n",
      "\u001b[32m✔\u001b[39m \u001b[34mtidyr  \u001b[39m 1.2.0     \u001b[32m✔\u001b[39m \u001b[34mstringr\u001b[39m 1.4.0\n",
      "\u001b[32m✔\u001b[39m \u001b[34mreadr  \u001b[39m 2.1.2     \u001b[32m✔\u001b[39m \u001b[34mforcats\u001b[39m 0.5.1\n",
      "\n",
      "── \u001b[1mConflicts\u001b[22m ────────────────────────────────────────── tidyverse_conflicts() ──\n",
      "\u001b[31m✖\u001b[39m \u001b[34mdplyr\u001b[39m::\u001b[32mfilter()\u001b[39m masks \u001b[34mstats\u001b[39m::filter()\n",
      "\u001b[31m✖\u001b[39m \u001b[34mdplyr\u001b[39m::\u001b[32mlag()\u001b[39m    masks \u001b[34mstats\u001b[39m::lag()\n",
      "\n",
      "── \u001b[1mAttaching packages\u001b[22m ────────────────────────────────────── tidymodels 1.0.0 ──\n",
      "\n",
      "\u001b[32m✔\u001b[39m \u001b[34mbroom       \u001b[39m 1.0.0     \u001b[32m✔\u001b[39m \u001b[34mrsample     \u001b[39m 1.0.0\n",
      "\u001b[32m✔\u001b[39m \u001b[34mdials       \u001b[39m 1.0.0     \u001b[32m✔\u001b[39m \u001b[34mtune        \u001b[39m 1.0.0\n",
      "\u001b[32m✔\u001b[39m \u001b[34minfer       \u001b[39m 1.0.2     \u001b[32m✔\u001b[39m \u001b[34mworkflows   \u001b[39m 1.0.0\n",
      "\u001b[32m✔\u001b[39m \u001b[34mmodeldata   \u001b[39m 1.0.0     \u001b[32m✔\u001b[39m \u001b[34mworkflowsets\u001b[39m 1.0.0\n",
      "\u001b[32m✔\u001b[39m \u001b[34mparsnip     \u001b[39m 1.0.0     \u001b[32m✔\u001b[39m \u001b[34myardstick   \u001b[39m 1.0.0\n",
      "\u001b[32m✔\u001b[39m \u001b[34mrecipes     \u001b[39m 1.0.1     \n",
      "\n",
      "── \u001b[1mConflicts\u001b[22m ───────────────────────────────────────── tidymodels_conflicts() ──\n",
      "\u001b[31m✖\u001b[39m \u001b[34mscales\u001b[39m::\u001b[32mdiscard()\u001b[39m masks \u001b[34mpurrr\u001b[39m::discard()\n",
      "\u001b[31m✖\u001b[39m \u001b[34mdplyr\u001b[39m::\u001b[32mfilter()\u001b[39m   masks \u001b[34mstats\u001b[39m::filter()\n",
      "\u001b[31m✖\u001b[39m \u001b[34mrecipes\u001b[39m::\u001b[32mfixed()\u001b[39m  masks \u001b[34mstringr\u001b[39m::fixed()\n",
      "\u001b[31m✖\u001b[39m \u001b[34mdplyr\u001b[39m::\u001b[32mlag()\u001b[39m      masks \u001b[34mstats\u001b[39m::lag()\n",
      "\u001b[31m✖\u001b[39m \u001b[34myardstick\u001b[39m::\u001b[32mspec()\u001b[39m masks \u001b[34mreadr\u001b[39m::spec()\n",
      "\u001b[31m✖\u001b[39m \u001b[34mrecipes\u001b[39m::\u001b[32mstep()\u001b[39m   masks \u001b[34mstats\u001b[39m::step()\n",
      "\u001b[34m•\u001b[39m Search for functions across packages at \u001b[32mhttps://www.tidymodels.org/find/\u001b[39m\n",
      "\n"
     ]
    }
   ],
   "source": [
    "### Please run this cell before continuing.\n",
    "\n",
    "library(tidyverse)\n",
    "library(repr)\n",
    "library(tidymodels)\n",
    "options(repr.matrix.max.rows = 6)"
   ]
  },
  {
   "cell_type": "markdown",
   "id": "3523ae60-86cb-46c2-85c3-3354daed2a10",
   "metadata": {},
   "source": [
    "#### Preliminary Exploratory Data Analysis\n",
    "\n",
    "* *Demonstrate that the dataset can be read from the web into R*\n",
    "    * read_csv from github (will upload dataet that we're using onto the repo)\n",
    "* *Clean and wrangle your data into a tidy format*\n",
    "    * filter for one country/time range \n",
    "* *Using only training data, summarize the data in at least one table (this is exploratory data analysis). An example of a useful table could be one that reports the number of observations in each class, the means of the predictor variables you plan to use in your analysis and how many rows have missing data.*\n",
    "    * initial_split \n",
    "    * group_by, summarize\n",
    "    * averages\n",
    "    * map_df?\n",
    "    * ^ allowed to use more than one table for several functions\n",
    "* *Using only training data, visualize the data with at least one plot relevant to the analysis you plan to do (this is exploratory data analysis). An example of a useful visualization could be one that compares the distributions of each of the predictor variables you plan to use in your analysis.*\n",
    "    * discuss which variables to use in analysis"
   ]
  },
  {
   "cell_type": "code",
   "execution_count": 3,
   "id": "bc6b3959-4062-439d-9797-b196123b374b",
   "metadata": {},
   "outputs": [
    {
     "name": "stderr",
     "output_type": "stream",
     "text": [
      "\u001b[1mRows: \u001b[22m\u001b[34m1004\u001b[39m \u001b[1mColumns: \u001b[22m\u001b[34m67\u001b[39m\n",
      "\u001b[36m──\u001b[39m \u001b[1mColumn specification\u001b[22m \u001b[36m────────────────────────────────────────────────────────\u001b[39m\n",
      "\u001b[1mDelimiter:\u001b[22m \",\"\n",
      "\u001b[31mchr\u001b[39m   (4): iso_code, continent, location, tests_units\n",
      "\u001b[32mdbl\u001b[39m  (57): total_cases, new_cases, new_cases_smoothed, total_deaths, new_dea...\n",
      "\u001b[33mlgl\u001b[39m   (5): weekly_icu_admissions, weekly_icu_admissions_per_million, weekly_...\n",
      "\u001b[34mdate\u001b[39m  (1): date\n",
      "\n",
      "\u001b[36mℹ\u001b[39m Use `spec()` to retrieve the full column specification for this data.\n",
      "\u001b[36mℹ\u001b[39m Specify the column types or set `show_col_types = FALSE` to quiet this message.\n"
     ]
    },
    {
     "data": {
      "text/html": [
       "<table class=\"dataframe\">\n",
       "<caption>A spec_tbl_df: 1004 × 67</caption>\n",
       "<thead>\n",
       "\t<tr><th scope=col>iso_code</th><th scope=col>continent</th><th scope=col>location</th><th scope=col>date</th><th scope=col>total_cases</th><th scope=col>new_cases</th><th scope=col>new_cases_smoothed</th><th scope=col>total_deaths</th><th scope=col>new_deaths</th><th scope=col>new_deaths_smoothed</th><th scope=col>⋯</th><th scope=col>male_smokers</th><th scope=col>handwashing_facilities</th><th scope=col>hospital_beds_per_thousand</th><th scope=col>life_expectancy</th><th scope=col>human_development_index</th><th scope=col>population</th><th scope=col>excess_mortality_cumulative_absolute</th><th scope=col>excess_mortality_cumulative</th><th scope=col>excess_mortality</th><th scope=col>excess_mortality_cumulative_per_million</th></tr>\n",
       "\t<tr><th scope=col>&lt;chr&gt;</th><th scope=col>&lt;chr&gt;</th><th scope=col>&lt;chr&gt;</th><th scope=col>&lt;date&gt;</th><th scope=col>&lt;dbl&gt;</th><th scope=col>&lt;dbl&gt;</th><th scope=col>&lt;dbl&gt;</th><th scope=col>&lt;dbl&gt;</th><th scope=col>&lt;dbl&gt;</th><th scope=col>&lt;dbl&gt;</th><th scope=col>⋯</th><th scope=col>&lt;dbl&gt;</th><th scope=col>&lt;lgl&gt;</th><th scope=col>&lt;dbl&gt;</th><th scope=col>&lt;dbl&gt;</th><th scope=col>&lt;dbl&gt;</th><th scope=col>&lt;dbl&gt;</th><th scope=col>&lt;dbl&gt;</th><th scope=col>&lt;dbl&gt;</th><th scope=col>&lt;dbl&gt;</th><th scope=col>&lt;dbl&gt;</th></tr>\n",
       "</thead>\n",
       "<tbody>\n",
       "\t<tr><td>CAN</td><td>North America</td><td>Canada</td><td>2020-01-23</td><td>2</td><td>2</td><td>NA</td><td>NA</td><td>NA</td><td>NA</td><td>⋯</td><td>16.6</td><td>NA</td><td>2.5</td><td>82.43</td><td>0.929</td><td>38155012</td><td>NA</td><td>NA</td><td>NA</td><td>NA</td></tr>\n",
       "\t<tr><td>CAN</td><td>North America</td><td>Canada</td><td>2020-01-24</td><td>3</td><td>1</td><td>NA</td><td>NA</td><td>NA</td><td>NA</td><td>⋯</td><td>16.6</td><td>NA</td><td>2.5</td><td>82.43</td><td>0.929</td><td>38155012</td><td>NA</td><td>NA</td><td>NA</td><td>NA</td></tr>\n",
       "\t<tr><td>CAN</td><td>North America</td><td>Canada</td><td>2020-01-25</td><td>3</td><td>0</td><td>NA</td><td>NA</td><td>NA</td><td>NA</td><td>⋯</td><td>16.6</td><td>NA</td><td>2.5</td><td>82.43</td><td>0.929</td><td>38155012</td><td>NA</td><td>NA</td><td>NA</td><td>NA</td></tr>\n",
       "\t<tr><td>⋮</td><td>⋮</td><td>⋮</td><td>⋮</td><td>⋮</td><td>⋮</td><td>⋮</td><td>⋮</td><td>⋮</td><td>⋮</td><td>⋱</td><td>⋮</td><td>⋮</td><td>⋮</td><td>⋮</td><td>⋮</td><td>⋮</td><td>⋮</td><td>⋮</td><td>⋮</td><td>⋮</td></tr>\n",
       "\t<tr><td>CAN</td><td>North America</td><td>Canada</td><td>2022-10-20</td><td>4341692</td><td>8864</td><td>3227.000</td><td>46170</td><td>150</td><td>48.143</td><td>⋯</td><td>16.6</td><td>NA</td><td>2.5</td><td>82.43</td><td>0.929</td><td>38155012</td><td>NA</td><td>NA</td><td>NA</td><td>NA</td></tr>\n",
       "\t<tr><td>CAN</td><td>North America</td><td>Canada</td><td>2022-10-21</td><td>4344504</td><td>2812</td><td>2877.571</td><td>46218</td><td> 48</td><td>41.429</td><td>⋯</td><td>16.6</td><td>NA</td><td>2.5</td><td>82.43</td><td>0.929</td><td>38155012</td><td>NA</td><td>NA</td><td>NA</td><td>NA</td></tr>\n",
       "\t<tr><td>CAN</td><td>North America</td><td>Canada</td><td>2022-10-22</td><td>4345265</td><td> 761</td><td>2840.143</td><td>46230</td><td> 12</td><td>42.000</td><td>⋯</td><td>16.6</td><td>NA</td><td>2.5</td><td>82.43</td><td>0.929</td><td>38155012</td><td>NA</td><td>NA</td><td>NA</td><td>NA</td></tr>\n",
       "</tbody>\n",
       "</table>\n"
      ],
      "text/latex": [
       "A spec\\_tbl\\_df: 1004 × 67\n",
       "\\begin{tabular}{lllllllllllllllllllll}\n",
       " iso\\_code & continent & location & date & total\\_cases & new\\_cases & new\\_cases\\_smoothed & total\\_deaths & new\\_deaths & new\\_deaths\\_smoothed & ⋯ & male\\_smokers & handwashing\\_facilities & hospital\\_beds\\_per\\_thousand & life\\_expectancy & human\\_development\\_index & population & excess\\_mortality\\_cumulative\\_absolute & excess\\_mortality\\_cumulative & excess\\_mortality & excess\\_mortality\\_cumulative\\_per\\_million\\\\\n",
       " <chr> & <chr> & <chr> & <date> & <dbl> & <dbl> & <dbl> & <dbl> & <dbl> & <dbl> & ⋯ & <dbl> & <lgl> & <dbl> & <dbl> & <dbl> & <dbl> & <dbl> & <dbl> & <dbl> & <dbl>\\\\\n",
       "\\hline\n",
       "\t CAN & North America & Canada & 2020-01-23 & 2 & 2 & NA & NA & NA & NA & ⋯ & 16.6 & NA & 2.5 & 82.43 & 0.929 & 38155012 & NA & NA & NA & NA\\\\\n",
       "\t CAN & North America & Canada & 2020-01-24 & 3 & 1 & NA & NA & NA & NA & ⋯ & 16.6 & NA & 2.5 & 82.43 & 0.929 & 38155012 & NA & NA & NA & NA\\\\\n",
       "\t CAN & North America & Canada & 2020-01-25 & 3 & 0 & NA & NA & NA & NA & ⋯ & 16.6 & NA & 2.5 & 82.43 & 0.929 & 38155012 & NA & NA & NA & NA\\\\\n",
       "\t ⋮ & ⋮ & ⋮ & ⋮ & ⋮ & ⋮ & ⋮ & ⋮ & ⋮ & ⋮ & ⋱ & ⋮ & ⋮ & ⋮ & ⋮ & ⋮ & ⋮ & ⋮ & ⋮ & ⋮ & ⋮\\\\\n",
       "\t CAN & North America & Canada & 2022-10-20 & 4341692 & 8864 & 3227.000 & 46170 & 150 & 48.143 & ⋯ & 16.6 & NA & 2.5 & 82.43 & 0.929 & 38155012 & NA & NA & NA & NA\\\\\n",
       "\t CAN & North America & Canada & 2022-10-21 & 4344504 & 2812 & 2877.571 & 46218 &  48 & 41.429 & ⋯ & 16.6 & NA & 2.5 & 82.43 & 0.929 & 38155012 & NA & NA & NA & NA\\\\\n",
       "\t CAN & North America & Canada & 2022-10-22 & 4345265 &  761 & 2840.143 & 46230 &  12 & 42.000 & ⋯ & 16.6 & NA & 2.5 & 82.43 & 0.929 & 38155012 & NA & NA & NA & NA\\\\\n",
       "\\end{tabular}\n"
      ],
      "text/markdown": [
       "\n",
       "A spec_tbl_df: 1004 × 67\n",
       "\n",
       "| iso_code &lt;chr&gt; | continent &lt;chr&gt; | location &lt;chr&gt; | date &lt;date&gt; | total_cases &lt;dbl&gt; | new_cases &lt;dbl&gt; | new_cases_smoothed &lt;dbl&gt; | total_deaths &lt;dbl&gt; | new_deaths &lt;dbl&gt; | new_deaths_smoothed &lt;dbl&gt; | ⋯ ⋯ | male_smokers &lt;dbl&gt; | handwashing_facilities &lt;lgl&gt; | hospital_beds_per_thousand &lt;dbl&gt; | life_expectancy &lt;dbl&gt; | human_development_index &lt;dbl&gt; | population &lt;dbl&gt; | excess_mortality_cumulative_absolute &lt;dbl&gt; | excess_mortality_cumulative &lt;dbl&gt; | excess_mortality &lt;dbl&gt; | excess_mortality_cumulative_per_million &lt;dbl&gt; |\n",
       "|---|---|---|---|---|---|---|---|---|---|---|---|---|---|---|---|---|---|---|---|---|\n",
       "| CAN | North America | Canada | 2020-01-23 | 2 | 2 | NA | NA | NA | NA | ⋯ | 16.6 | NA | 2.5 | 82.43 | 0.929 | 38155012 | NA | NA | NA | NA |\n",
       "| CAN | North America | Canada | 2020-01-24 | 3 | 1 | NA | NA | NA | NA | ⋯ | 16.6 | NA | 2.5 | 82.43 | 0.929 | 38155012 | NA | NA | NA | NA |\n",
       "| CAN | North America | Canada | 2020-01-25 | 3 | 0 | NA | NA | NA | NA | ⋯ | 16.6 | NA | 2.5 | 82.43 | 0.929 | 38155012 | NA | NA | NA | NA |\n",
       "| ⋮ | ⋮ | ⋮ | ⋮ | ⋮ | ⋮ | ⋮ | ⋮ | ⋮ | ⋮ | ⋱ | ⋮ | ⋮ | ⋮ | ⋮ | ⋮ | ⋮ | ⋮ | ⋮ | ⋮ | ⋮ |\n",
       "| CAN | North America | Canada | 2022-10-20 | 4341692 | 8864 | 3227.000 | 46170 | 150 | 48.143 | ⋯ | 16.6 | NA | 2.5 | 82.43 | 0.929 | 38155012 | NA | NA | NA | NA |\n",
       "| CAN | North America | Canada | 2022-10-21 | 4344504 | 2812 | 2877.571 | 46218 |  48 | 41.429 | ⋯ | 16.6 | NA | 2.5 | 82.43 | 0.929 | 38155012 | NA | NA | NA | NA |\n",
       "| CAN | North America | Canada | 2022-10-22 | 4345265 |  761 | 2840.143 | 46230 |  12 | 42.000 | ⋯ | 16.6 | NA | 2.5 | 82.43 | 0.929 | 38155012 | NA | NA | NA | NA |\n",
       "\n"
      ],
      "text/plain": [
       "     iso_code continent     location date       total_cases new_cases\n",
       "1    CAN      North America Canada   2020-01-23 2           2        \n",
       "2    CAN      North America Canada   2020-01-24 3           1        \n",
       "3    CAN      North America Canada   2020-01-25 3           0        \n",
       "⋮    ⋮        ⋮             ⋮        ⋮          ⋮           ⋮        \n",
       "1002 CAN      North America Canada   2022-10-20 4341692     8864     \n",
       "1003 CAN      North America Canada   2022-10-21 4344504     2812     \n",
       "1004 CAN      North America Canada   2022-10-22 4345265      761     \n",
       "     new_cases_smoothed total_deaths new_deaths new_deaths_smoothed ⋯\n",
       "1    NA                 NA           NA         NA                  ⋯\n",
       "2    NA                 NA           NA         NA                  ⋯\n",
       "3    NA                 NA           NA         NA                  ⋯\n",
       "⋮    ⋮                  ⋮            ⋮          ⋮                   ⋱\n",
       "1002 3227.000           46170        150        48.143              ⋯\n",
       "1003 2877.571           46218         48        41.429              ⋯\n",
       "1004 2840.143           46230         12        42.000              ⋯\n",
       "     male_smokers handwashing_facilities hospital_beds_per_thousand\n",
       "1    16.6         NA                     2.5                       \n",
       "2    16.6         NA                     2.5                       \n",
       "3    16.6         NA                     2.5                       \n",
       "⋮    ⋮            ⋮                      ⋮                         \n",
       "1002 16.6         NA                     2.5                       \n",
       "1003 16.6         NA                     2.5                       \n",
       "1004 16.6         NA                     2.5                       \n",
       "     life_expectancy human_development_index population\n",
       "1    82.43           0.929                   38155012  \n",
       "2    82.43           0.929                   38155012  \n",
       "3    82.43           0.929                   38155012  \n",
       "⋮    ⋮               ⋮                       ⋮         \n",
       "1002 82.43           0.929                   38155012  \n",
       "1003 82.43           0.929                   38155012  \n",
       "1004 82.43           0.929                   38155012  \n",
       "     excess_mortality_cumulative_absolute excess_mortality_cumulative\n",
       "1    NA                                   NA                         \n",
       "2    NA                                   NA                         \n",
       "3    NA                                   NA                         \n",
       "⋮    ⋮                                    ⋮                          \n",
       "1002 NA                                   NA                         \n",
       "1003 NA                                   NA                         \n",
       "1004 NA                                   NA                         \n",
       "     excess_mortality excess_mortality_cumulative_per_million\n",
       "1    NA               NA                                     \n",
       "2    NA               NA                                     \n",
       "3    NA               NA                                     \n",
       "⋮    ⋮                ⋮                                      \n",
       "1002 NA               NA                                     \n",
       "1003 NA               NA                                     \n",
       "1004 NA               NA                                     "
      ]
     },
     "metadata": {},
     "output_type": "display_data"
    }
   ],
   "source": [
    "# testing data pull\n",
    "\n",
    "test_data_pull <- read_csv(\"https://raw.githubusercontent.com/labellali/dsci-100-2022w1-group-169/main/data/owid-covid-data.csv\")\n",
    "\n",
    "# wip cleaning test\n",
    "\n",
    "#test_data_tidy <- test_data_pull |>\n",
    " #   head(52) |>\n",
    " #   rename(product_name = \"Products 5\") |>\n",
    " #   filter(product_name != is.na(product_name)) |>\n",
    " #   mutate(\"October 2015\":\"February 2022\" = as.character(\"October 2015\":\"February 2022\")) |>\n",
    " #   pivot_longer(\"October 1995\":\"February 2022\",\n",
    " #               names_to = \"time_temp\",\n",
    " #               values_to = \"avg_monthly_price\")\n",
    "# yes\n",
    "\n",
    "test_data_pull"
   ]
  },
  {
   "cell_type": "markdown",
   "id": "9196466c-bd57-4f79-af6f-136aaf64c305",
   "metadata": {},
   "source": [
    "#### Method\n",
    "\n",
    "* *Explain how you will conduct either your data analysis and which variables/columns you will use. Note - you do not need to use all variables/columns that exist in the raw data set. In fact, that's often not a good idea. For each variable think: is this a useful variable for prediction?*\n",
    "    * filter for certain country/time range\n",
    "    * select(-removal) any unnecessary columns\n",
    "* *Describe at least one way that you will visualize the results*\n",
    "    * consider facet_grid?\n",
    "    * different kinds of geom visualization functions"
   ]
  },
  {
   "cell_type": "markdown",
   "id": "565b3d66-d513-42ed-9557-3f82f09236df",
   "metadata": {},
   "source": [
    "#### Expected outcomes and significance\n",
    "\n",
    "* *What do you expect to find?*\n",
    "* *What impact could such findings have?*\n",
    "* *What future questions could this lead to?*"
   ]
  },
  {
   "cell_type": "code",
   "execution_count": null,
   "id": "53968fdc-23e2-482c-a236-f8d6ddd78aac",
   "metadata": {},
   "outputs": [],
   "source": []
  }
 ],
 "metadata": {
  "kernelspec": {
   "display_name": "R",
   "language": "R",
   "name": "ir"
  },
  "language_info": {
   "codemirror_mode": "r",
   "file_extension": ".r",
   "mimetype": "text/x-r-source",
   "name": "R",
   "pygments_lexer": "r",
   "version": "4.1.3"
  }
 },
 "nbformat": 4,
 "nbformat_minor": 5
}
