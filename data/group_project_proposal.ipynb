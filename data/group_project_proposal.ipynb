{
 "cells": [
  {
   "cell_type": "markdown",
   "id": "14fe2dab-09f0-40fa-9e58-8bdfe71f3335",
   "metadata": {},
   "source": [
    "# DSCI 100/Section 009/Group 169 Group Project Proposal\n",
    "\n",
    "### [data_set_name] Analysis Proposal\n",
    "By: Shady Abo El Kasim, Nalan Goosen, Labella Li, Yusen Wu"
   ]
  },
  {
   "cell_type": "markdown",
   "id": "e26cc874-dd10-4f64-9aa1-5abe451a3141",
   "metadata": {},
   "source": [
    "#### Introduction\n",
    "\n",
    "\n",
    "* *Provide some relevant background information on the topic so that someone unfamiliar with it will be prepared to understand the rest of your proposal*\n",
    "* *Clearly state the question you will try to answer with your project*\n",
    "    * predictive question: asks about predictions of measurements or labels, what and not why (ex. \"what will an individual choose based on prior data?\")\n",
    "* *Identify and describe the dataset that will be used to answer the question*\n",
    "    * identify origins of dataset/brief description of organization, when the dataset was pulled"
   ]
  },
  {
   "cell_type": "code",
   "execution_count": 1,
   "id": "2a73f89c-c94e-40d0-8f45-3f817e981de2",
   "metadata": {},
   "outputs": [
    {
     "name": "stderr",
     "output_type": "stream",
     "text": [
      "── \u001b[1mAttaching packages\u001b[22m ─────────────────────────────────────── tidyverse 1.3.1 ──\n",
      "\n",
      "\u001b[32m✔\u001b[39m \u001b[34mggplot2\u001b[39m 3.3.6     \u001b[32m✔\u001b[39m \u001b[34mpurrr  \u001b[39m 0.3.4\n",
      "\u001b[32m✔\u001b[39m \u001b[34mtibble \u001b[39m 3.1.7     \u001b[32m✔\u001b[39m \u001b[34mdplyr  \u001b[39m 1.0.9\n",
      "\u001b[32m✔\u001b[39m \u001b[34mtidyr  \u001b[39m 1.2.0     \u001b[32m✔\u001b[39m \u001b[34mstringr\u001b[39m 1.4.0\n",
      "\u001b[32m✔\u001b[39m \u001b[34mreadr  \u001b[39m 2.1.2     \u001b[32m✔\u001b[39m \u001b[34mforcats\u001b[39m 0.5.1\n",
      "\n",
      "── \u001b[1mConflicts\u001b[22m ────────────────────────────────────────── tidyverse_conflicts() ──\n",
      "\u001b[31m✖\u001b[39m \u001b[34mdplyr\u001b[39m::\u001b[32mfilter()\u001b[39m masks \u001b[34mstats\u001b[39m::filter()\n",
      "\u001b[31m✖\u001b[39m \u001b[34mdplyr\u001b[39m::\u001b[32mlag()\u001b[39m    masks \u001b[34mstats\u001b[39m::lag()\n",
      "\n",
      "── \u001b[1mAttaching packages\u001b[22m ────────────────────────────────────── tidymodels 1.0.0 ──\n",
      "\n",
      "\u001b[32m✔\u001b[39m \u001b[34mbroom       \u001b[39m 1.0.0     \u001b[32m✔\u001b[39m \u001b[34mrsample     \u001b[39m 1.0.0\n",
      "\u001b[32m✔\u001b[39m \u001b[34mdials       \u001b[39m 1.0.0     \u001b[32m✔\u001b[39m \u001b[34mtune        \u001b[39m 1.0.0\n",
      "\u001b[32m✔\u001b[39m \u001b[34minfer       \u001b[39m 1.0.2     \u001b[32m✔\u001b[39m \u001b[34mworkflows   \u001b[39m 1.0.0\n",
      "\u001b[32m✔\u001b[39m \u001b[34mmodeldata   \u001b[39m 1.0.0     \u001b[32m✔\u001b[39m \u001b[34mworkflowsets\u001b[39m 1.0.0\n",
      "\u001b[32m✔\u001b[39m \u001b[34mparsnip     \u001b[39m 1.0.0     \u001b[32m✔\u001b[39m \u001b[34myardstick   \u001b[39m 1.0.0\n",
      "\u001b[32m✔\u001b[39m \u001b[34mrecipes     \u001b[39m 1.0.1     \n",
      "\n",
      "── \u001b[1mConflicts\u001b[22m ───────────────────────────────────────── tidymodels_conflicts() ──\n",
      "\u001b[31m✖\u001b[39m \u001b[34mscales\u001b[39m::\u001b[32mdiscard()\u001b[39m masks \u001b[34mpurrr\u001b[39m::discard()\n",
      "\u001b[31m✖\u001b[39m \u001b[34mdplyr\u001b[39m::\u001b[32mfilter()\u001b[39m   masks \u001b[34mstats\u001b[39m::filter()\n",
      "\u001b[31m✖\u001b[39m \u001b[34mrecipes\u001b[39m::\u001b[32mfixed()\u001b[39m  masks \u001b[34mstringr\u001b[39m::fixed()\n",
      "\u001b[31m✖\u001b[39m \u001b[34mdplyr\u001b[39m::\u001b[32mlag()\u001b[39m      masks \u001b[34mstats\u001b[39m::lag()\n",
      "\u001b[31m✖\u001b[39m \u001b[34myardstick\u001b[39m::\u001b[32mspec()\u001b[39m masks \u001b[34mreadr\u001b[39m::spec()\n",
      "\u001b[31m✖\u001b[39m \u001b[34mrecipes\u001b[39m::\u001b[32mstep()\u001b[39m   masks \u001b[34mstats\u001b[39m::step()\n",
      "\u001b[34m•\u001b[39m Learn how to get started at \u001b[32mhttps://www.tidymodels.org/start/\u001b[39m\n",
      "\n"
     ]
    }
   ],
   "source": [
    "### Please run this cell before continuing.\n",
    "\n",
    "library(tidyverse)\n",
    "library(repr)\n",
    "library(tidymodels)\n",
    "options(repr.matrix.max.rows = 6)\n",
    "set.seed(2022) "
   ]
  },
  {
   "cell_type": "markdown",
   "id": "3523ae60-86cb-46c2-85c3-3354daed2a10",
   "metadata": {},
   "source": [
    "#### Preliminary Exploratory Data Analysis\n",
    "\n",
    "* *Demonstrate that the dataset can be read from the web into R*\n",
    "* *Clean and wrangle your data into a tidy format*\n",
    "* *Using only training data, summarize the data in at least one table (this is exploratory data analysis). An example of a useful table could be one that reports the number of observations in each class, the means of the predictor variables you plan to use in your analysis and how many rows have missing data.*\n",
    "    * initial_split \n",
    "    * group_by, summarize\n",
    "    * averages\n",
    "    * map_df?\n",
    "    * ^ allowed to use more than one table for several functions\n",
    "* *Using only training data, visualize the data with at least one plot relevant to the analysis you plan to do (this is exploratory data analysis). An example of a useful visualization could be one that compares the distributions of each of the predictor variables you plan to use in your analysis.*\n",
    "    * discuss which variables to use in analysis"
   ]
  },
  {
   "cell_type": "markdown",
   "id": "31518f8e-94b3-46ea-81f7-4e32227a2eca",
   "metadata": {},
   "source": [
    "### Data Reading, Wrangling, and Cleaning"
   ]
  },
  {
   "cell_type": "code",
   "execution_count": 2,
   "id": "bc6b3959-4062-439d-9797-b196123b374b",
   "metadata": {},
   "outputs": [
    {
     "name": "stderr",
     "output_type": "stream",
     "text": [
      "\u001b[1mRows: \u001b[22m\u001b[34m303\u001b[39m \u001b[1mColumns: \u001b[22m\u001b[34m14\u001b[39m\n",
      "\u001b[36m──\u001b[39m \u001b[1mColumn specification\u001b[22m \u001b[36m────────────────────────────────────────────────────────\u001b[39m\n",
      "\u001b[1mDelimiter:\u001b[22m \",\"\n",
      "\u001b[31mchr\u001b[39m  (2): Column12, Column13\n",
      "\u001b[32mdbl\u001b[39m (12): Column1, Column2, Column3, Column4, Column5, Column6, Column7, Col...\n",
      "\n",
      "\u001b[36mℹ\u001b[39m Use `spec()` to retrieve the full column specification for this data.\n",
      "\u001b[36mℹ\u001b[39m Specify the column types or set `show_col_types = FALSE` to quiet this message.\n"
     ]
    }
   ],
   "source": [
    "# reading and cleaning dataset\n",
    "\n",
    "heart_disease_data <- read_csv(\"https://raw.githubusercontent.com/labellali/dsci-100-2022w1-group-169/main/data/heart_disease_dataset.csv\")\n",
    "heart_disease_data <- heart_disease_data |>\n",
    "    rename(age = Column1,\n",
    "            sex = Column2,\n",
    "                            chest_pain = Column3,\n",
    "                            resting_blood_pressure = Column4,\n",
    "                            cholesterol = Column5,\n",
    "                            fasting_blood_sugar = Column6,\n",
    "                            rest_ecg = Column7,\n",
    "                            max_heart_rate = Column8,\n",
    "                            exercised_ind_angina = Column9,\n",
    "                            oldpeak = Column10,\n",
    "                            slope = Column11,\n",
    "                            ca = Column12,\n",
    "                            thal = Column13,\n",
    "                            num = Column14) |>\n",
    "    mutate(sex = as.factor(sex),\n",
    "          chest_pain = as.factor(chest_pain),\n",
    "          fasting_blood_sugar = as.factor(fasting_blood_sugar),\n",
    "          rest_ecg = as.factor(rest_ecg),\n",
    "          exercised_ind_angina = as.factor(exercised_ind_angina),\n",
    "          num = as.factor(num),\n",
    "          thal = na_if(thal, '?'),\n",
    "          ca = na_if(ca, '?'),\n",
    "          thal = as.numeric(thal),\n",
    "          ca = as.numeric(ca))\n",
    "\n",
    "# deciding which columns to keep; separated from the rest of the cleaning process as our decisions may change\n",
    "\n",
    "heart_disease_data <- select(heart_disease_data,\n",
    "                            age,\n",
    "                            sex,\n",
    "                            resting_blood_pressure,\n",
    "                            cholesterol,\n",
    "                            max_heart_rate,\n",
    "                            thal,\n",
    "                            num)"
   ]
  },
  {
   "cell_type": "code",
   "execution_count": 3,
   "id": "b5b0870a-b11a-451b-b608-db090c94a039",
   "metadata": {},
   "outputs": [],
   "source": [
    "# splitting data into initial and training datasets\n",
    "\n",
    "heart_disease_split <- initial_split(heart_disease_data, prop = 0.75, strata = num)\n",
    "training_data <- training(heart_disease_split)\n",
    "testing_data <- testing(heart_disease_split)"
   ]
  },
  {
   "cell_type": "markdown",
   "id": "eac2f9ad-bd9e-4819-ae0e-68ae28956c4f",
   "metadata": {},
   "source": [
    "### Preliminary Exploratory Data Analysis"
   ]
  },
  {
   "cell_type": "markdown",
   "id": "e0067f6f-6074-47cb-9629-bfc04f20f3d3",
   "metadata": {},
   "source": [
    "#### Data Summarization Exploration"
   ]
  },
  {
   "cell_type": "code",
   "execution_count": 4,
   "id": "b9a756aa-79f1-4342-8711-316325351412",
   "metadata": {},
   "outputs": [
    {
     "data": {
      "text/html": [
       "<table class=\"dataframe\">\n",
       "<caption>A tibble: 5 × 2</caption>\n",
       "<thead>\n",
       "\t<tr><th scope=col>num</th><th scope=col>n</th></tr>\n",
       "\t<tr><th scope=col>&lt;fct&gt;</th><th scope=col>&lt;int&gt;</th></tr>\n",
       "</thead>\n",
       "<tbody>\n",
       "\t<tr><td>0</td><td>122</td></tr>\n",
       "\t<tr><td>1</td><td> 41</td></tr>\n",
       "\t<tr><td>2</td><td> 25</td></tr>\n",
       "\t<tr><td>3</td><td> 25</td></tr>\n",
       "\t<tr><td>4</td><td> 12</td></tr>\n",
       "</tbody>\n",
       "</table>\n"
      ],
      "text/latex": [
       "A tibble: 5 × 2\n",
       "\\begin{tabular}{ll}\n",
       " num & n\\\\\n",
       " <fct> & <int>\\\\\n",
       "\\hline\n",
       "\t 0 & 122\\\\\n",
       "\t 1 &  41\\\\\n",
       "\t 2 &  25\\\\\n",
       "\t 3 &  25\\\\\n",
       "\t 4 &  12\\\\\n",
       "\\end{tabular}\n"
      ],
      "text/markdown": [
       "\n",
       "A tibble: 5 × 2\n",
       "\n",
       "| num &lt;fct&gt; | n &lt;int&gt; |\n",
       "|---|---|\n",
       "| 0 | 122 |\n",
       "| 1 |  41 |\n",
       "| 2 |  25 |\n",
       "| 3 |  25 |\n",
       "| 4 |  12 |\n",
       "\n"
      ],
      "text/plain": [
       "  num n  \n",
       "1 0   122\n",
       "2 1    41\n",
       "3 2    25\n",
       "4 3    25\n",
       "5 4    12"
      ]
     },
     "metadata": {},
     "output_type": "display_data"
    }
   ],
   "source": [
    "# looking at the number of observations in each class to predict\n",
    "\n",
    "training_data_count <- training_data |>\n",
    "    group_by(num) |>\n",
    "    summarize(n = n())\n",
    "\n",
    "training_data_count"
   ]
  },
  {
   "cell_type": "code",
   "execution_count": 5,
   "id": "ad11b07f-80e1-4d2d-a403-96c8c22ad762",
   "metadata": {},
   "outputs": [
    {
     "data": {
      "text/html": [
       "<table class=\"dataframe\">\n",
       "<caption>A tibble: 1 × 4</caption>\n",
       "<thead>\n",
       "\t<tr><th scope=col>age</th><th scope=col>resting_blood_pressure</th><th scope=col>cholesterol</th><th scope=col>max_heart_rate</th></tr>\n",
       "\t<tr><th scope=col>&lt;dbl&gt;</th><th scope=col>&lt;dbl&gt;</th><th scope=col>&lt;dbl&gt;</th><th scope=col>&lt;dbl&gt;</th></tr>\n",
       "</thead>\n",
       "<tbody>\n",
       "\t<tr><td>54.60889</td><td>132.7644</td><td>249.4756</td><td>151.4133</td></tr>\n",
       "</tbody>\n",
       "</table>\n"
      ],
      "text/latex": [
       "A tibble: 1 × 4\n",
       "\\begin{tabular}{llll}\n",
       " age & resting\\_blood\\_pressure & cholesterol & max\\_heart\\_rate\\\\\n",
       " <dbl> & <dbl> & <dbl> & <dbl>\\\\\n",
       "\\hline\n",
       "\t 54.60889 & 132.7644 & 249.4756 & 151.4133\\\\\n",
       "\\end{tabular}\n"
      ],
      "text/markdown": [
       "\n",
       "A tibble: 1 × 4\n",
       "\n",
       "| age &lt;dbl&gt; | resting_blood_pressure &lt;dbl&gt; | cholesterol &lt;dbl&gt; | max_heart_rate &lt;dbl&gt; |\n",
       "|---|---|---|---|\n",
       "| 54.60889 | 132.7644 | 249.4756 | 151.4133 |\n",
       "\n"
      ],
      "text/plain": [
       "  age      resting_blood_pressure cholesterol max_heart_rate\n",
       "1 54.60889 132.7644               249.4756    151.4133      "
      ]
     },
     "metadata": {},
     "output_type": "display_data"
    }
   ],
   "source": [
    "# calculating the means of every numeric predictor\n",
    "\n",
    "training_data_means <- training_data |>\n",
    "    select(-sex, -thal, -num) |>\n",
    "    map_df(mean, na.rm = TRUE)\n",
    "\n",
    "training_data_means"
   ]
  },
  {
   "cell_type": "code",
   "execution_count": 6,
   "id": "ebb21438-30c4-44a5-8f4e-87f175a3cd63",
   "metadata": {},
   "outputs": [
    {
     "data": {
      "text/html": [
       "<table class=\"dataframe\">\n",
       "<caption>A tibble: 1 × 1</caption>\n",
       "<thead>\n",
       "\t<tr><th scope=col>rows_with_na</th></tr>\n",
       "\t<tr><th scope=col>&lt;int&gt;</th></tr>\n",
       "</thead>\n",
       "<tbody>\n",
       "\t<tr><td>0</td></tr>\n",
       "</tbody>\n",
       "</table>\n"
      ],
      "text/latex": [
       "A tibble: 1 × 1\n",
       "\\begin{tabular}{l}\n",
       " rows\\_with\\_na\\\\\n",
       " <int>\\\\\n",
       "\\hline\n",
       "\t 0\\\\\n",
       "\\end{tabular}\n"
      ],
      "text/markdown": [
       "\n",
       "A tibble: 1 × 1\n",
       "\n",
       "| rows_with_na &lt;int&gt; |\n",
       "|---|\n",
       "| 0 |\n",
       "\n"
      ],
      "text/plain": [
       "  rows_with_na\n",
       "1 0           "
      ]
     },
     "metadata": {},
     "output_type": "display_data"
    }
   ],
   "source": [
    "# counting how many rows have missing data\n",
    "## FIX\n",
    "\n",
    "training_data_na_count <- training_data |>\n",
    "    filter(age == is.na(age) ||\n",
    "          sex == is.na(sex) ||\n",
    "          resting_blood_pressure == is.na(resting_blood_pressure) ||\n",
    "          max_heart_rate == is.na(max_heart_rate) ||\n",
    "          thal == is.na(thal) ||\n",
    "          num == is.na(num)) |>\n",
    "    summarize(rows_with_na = n())\n",
    "\n",
    "training_data_na_count"
   ]
  },
  {
   "cell_type": "code",
   "execution_count": 9,
   "id": "435cf1cd-956f-4d40-bf4a-9afb57e9afdd",
   "metadata": {},
   "outputs": [
    {
     "data": {
      "text/html": [
       "<table class=\"dataframe\">\n",
       "<caption>A tibble: 1 × 4</caption>\n",
       "<thead>\n",
       "\t<tr><th scope=col>age</th><th scope=col>resting_blood_pressure</th><th scope=col>cholesterol</th><th scope=col>max_heart_rate</th></tr>\n",
       "\t<tr><th scope=col>&lt;dbl&gt;</th><th scope=col>&lt;dbl&gt;</th><th scope=col>&lt;dbl&gt;</th><th scope=col>&lt;dbl&gt;</th></tr>\n",
       "</thead>\n",
       "<tbody>\n",
       "\t<tr><td>48</td><td>106</td><td>438</td><td>131</td></tr>\n",
       "</tbody>\n",
       "</table>\n"
      ],
      "text/latex": [
       "A tibble: 1 × 4\n",
       "\\begin{tabular}{llll}\n",
       " age & resting\\_blood\\_pressure & cholesterol & max\\_heart\\_rate\\\\\n",
       " <dbl> & <dbl> & <dbl> & <dbl>\\\\\n",
       "\\hline\n",
       "\t 48 & 106 & 438 & 131\\\\\n",
       "\\end{tabular}\n"
      ],
      "text/markdown": [
       "\n",
       "A tibble: 1 × 4\n",
       "\n",
       "| age &lt;dbl&gt; | resting_blood_pressure &lt;dbl&gt; | cholesterol &lt;dbl&gt; | max_heart_rate &lt;dbl&gt; |\n",
       "|---|---|---|---|\n",
       "| 48 | 106 | 438 | 131 |\n",
       "\n"
      ],
      "text/plain": [
       "  age resting_blood_pressure cholesterol max_heart_rate\n",
       "1 48  106                    438         131           "
      ]
     },
     "metadata": {},
     "output_type": "display_data"
    }
   ],
   "source": [
    "# finding range of each numeric variable\n",
    "\n",
    "training_data_max <- training_data |>\n",
    "    select(-sex, -thal, -num) |>\n",
    "    map_df(max, na.rm = TRUE)\n",
    "\n",
    "training_data_min <- training_data |>\n",
    "    select(-sex, -thal, -num) |>\n",
    "    map_df(min, na.rm = TRUE)\n",
    "\n",
    "training_data_ranges <- tibble(training_data_max - training_data_min)\n",
    "\n",
    "training_data_ranges"
   ]
  },
  {
   "cell_type": "code",
   "execution_count": 10,
   "id": "122822ee-4f61-41fa-a2eb-e85008e66ec2",
   "metadata": {},
   "outputs": [
    {
     "data": {
      "text/html": [
       "<table class=\"dataframe\">\n",
       "<caption>A tibble: 2 × 2</caption>\n",
       "<thead>\n",
       "\t<tr><th scope=col>sex</th><th scope=col>n</th></tr>\n",
       "\t<tr><th scope=col>&lt;fct&gt;</th><th scope=col>&lt;int&gt;</th></tr>\n",
       "</thead>\n",
       "<tbody>\n",
       "\t<tr><td>0</td><td> 78</td></tr>\n",
       "\t<tr><td>1</td><td>147</td></tr>\n",
       "</tbody>\n",
       "</table>\n"
      ],
      "text/latex": [
       "A tibble: 2 × 2\n",
       "\\begin{tabular}{ll}\n",
       " sex & n\\\\\n",
       " <fct> & <int>\\\\\n",
       "\\hline\n",
       "\t 0 &  78\\\\\n",
       "\t 1 & 147\\\\\n",
       "\\end{tabular}\n"
      ],
      "text/markdown": [
       "\n",
       "A tibble: 2 × 2\n",
       "\n",
       "| sex &lt;fct&gt; | n &lt;int&gt; |\n",
       "|---|---|\n",
       "| 0 |  78 |\n",
       "| 1 | 147 |\n",
       "\n"
      ],
      "text/plain": [
       "  sex n  \n",
       "1 0    78\n",
       "2 1   147"
      ]
     },
     "metadata": {},
     "output_type": "display_data"
    },
    {
     "data": {
      "text/html": [
       "<table class=\"dataframe\">\n",
       "<caption>A tibble: 4 × 2</caption>\n",
       "<thead>\n",
       "\t<tr><th scope=col>thal</th><th scope=col>n</th></tr>\n",
       "\t<tr><th scope=col>&lt;dbl&gt;</th><th scope=col>&lt;int&gt;</th></tr>\n",
       "</thead>\n",
       "<tbody>\n",
       "\t<tr><td> 3</td><td>128</td></tr>\n",
       "\t<tr><td> 6</td><td> 11</td></tr>\n",
       "\t<tr><td> 7</td><td> 84</td></tr>\n",
       "\t<tr><td>NA</td><td>  2</td></tr>\n",
       "</tbody>\n",
       "</table>\n"
      ],
      "text/latex": [
       "A tibble: 4 × 2\n",
       "\\begin{tabular}{ll}\n",
       " thal & n\\\\\n",
       " <dbl> & <int>\\\\\n",
       "\\hline\n",
       "\t  3 & 128\\\\\n",
       "\t  6 &  11\\\\\n",
       "\t  7 &  84\\\\\n",
       "\t NA &   2\\\\\n",
       "\\end{tabular}\n"
      ],
      "text/markdown": [
       "\n",
       "A tibble: 4 × 2\n",
       "\n",
       "| thal &lt;dbl&gt; | n &lt;int&gt; |\n",
       "|---|---|\n",
       "|  3 | 128 |\n",
       "|  6 |  11 |\n",
       "|  7 |  84 |\n",
       "| NA |   2 |\n",
       "\n"
      ],
      "text/plain": [
       "  thal n  \n",
       "1  3   128\n",
       "2  6    11\n",
       "3  7    84\n",
       "4 NA     2"
      ]
     },
     "metadata": {},
     "output_type": "display_data"
    }
   ],
   "source": [
    "# looking at the number of observations pertaining to each categorical variable\n",
    "\n",
    "training_data_count_sex <- training_data |>\n",
    "    group_by(sex) |>\n",
    "    summarize(n = n())\n",
    "\n",
    "training_data_count_thal <- training_data |>\n",
    "    group_by(thal) |>\n",
    "    summarize(n = n())\n",
    "\n",
    "training_data_count_sex\n",
    "\n",
    "training_data_count_thal"
   ]
  },
  {
   "cell_type": "markdown",
   "id": "a42d8b2f-83a4-4c17-9a96-781465e9b465",
   "metadata": {},
   "source": [
    "analysis of table results"
   ]
  },
  {
   "cell_type": "markdown",
   "id": "e80486ae-64ba-46fb-b4af-db6b3a694c49",
   "metadata": {},
   "source": [
    "#### Data Visualization Exploration"
   ]
  },
  {
   "cell_type": "code",
   "execution_count": 16,
   "id": "3c33f9f5-5ca4-4dee-81af-41e8f1c490e6",
   "metadata": {},
   "outputs": [],
   "source": [
    "# histograms of every numeric variable"
   ]
  },
  {
   "cell_type": "code",
   "execution_count": 17,
   "id": "9782d6cf-a0a4-42a5-966b-424bf94d7f81",
   "metadata": {},
   "outputs": [],
   "source": [
    "# facet grids of numeric variables separated by num status"
   ]
  },
  {
   "cell_type": "code",
   "execution_count": 18,
   "id": "25524096-af8d-45e2-8df2-882e0185b825",
   "metadata": {},
   "outputs": [],
   "source": [
    "# histogram chart of num with categorical variables taken into account only?"
   ]
  },
  {
   "cell_type": "markdown",
   "id": "7ac4ef62-c5f9-4257-a312-457a3981c15c",
   "metadata": {},
   "source": [
    "analysis of graph visualization"
   ]
  },
  {
   "cell_type": "markdown",
   "id": "9196466c-bd57-4f79-af6f-136aaf64c305",
   "metadata": {},
   "source": [
    "#### Method\n",
    "\n",
    "* *Explain how you will conduct either your data analysis and which variables/columns you will use. Note - you do not need to use all variables/columns that exist in the raw data set. In fact, that's often not a good idea. For each variable think: is this a useful variable for prediction?*\n",
    "    * filter for certain country/time range\n",
    "    * select(-removal) any unnecessary columns\n",
    "* *Describe at least one way that you will visualize the results*\n",
    "    * consider facet_grid?\n",
    "    * different kinds of geom visualization functions"
   ]
  },
  {
   "cell_type": "markdown",
   "id": "565b3d66-d513-42ed-9557-3f82f09236df",
   "metadata": {},
   "source": [
    "#### Expected outcomes and significance\n",
    "\n",
    "*What do you expect to find?*\n",
    "\n",
    "  * A link between certain variables and heart disease\n",
    "  * Compare the variables which have link with heart disease, and conclude the variable that have most effect to the heart disease\n",
    "  * An accurate predictive model that can help detect the possibility of people who might have heartdisease\n",
    "  \n",
    "*What impact could such findings have?*\n",
    "\n",
    "  * It is better for people to track the people who are susceptible in order to prevent them to get heart disease.\n",
    "  * And it is better for people to get the main factor which cause the heart disease.\n",
    "  \n",
    "*What future questions could this lead to?*\n",
    "\n",
    "  * what is the strongest indicator of heart disease?\n",
    "  * Is there any medical different between the heart disease that caused by different factors? If it is, how to prevent it in different way."
   ]
  },
  {
   "cell_type": "code",
   "execution_count": null,
   "id": "53968fdc-23e2-482c-a236-f8d6ddd78aac",
   "metadata": {},
   "outputs": [],
   "source": []
  }
 ],
 "metadata": {
  "kernelspec": {
   "display_name": "R",
   "language": "R",
   "name": "ir"
  },
  "language_info": {
   "codemirror_mode": "r",
   "file_extension": ".r",
   "mimetype": "text/x-r-source",
   "name": "R",
   "pygments_lexer": "r",
   "version": "4.1.3"
  }
 },
 "nbformat": 4,
 "nbformat_minor": 5
}
